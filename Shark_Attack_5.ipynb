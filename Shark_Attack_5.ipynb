{
  "nbformat": 4,
  "nbformat_minor": 0,
  "metadata": {
    "colab": {
      "provenance": [],
      "authorship_tag": "ABX9TyNO+eDVzoH0A0xDPiGSxfEo",
      "include_colab_link": true
    },
    "kernelspec": {
      "name": "python3",
      "display_name": "Python 3"
    },
    "language_info": {
      "name": "python"
    }
  },
  "cells": [
    {
      "cell_type": "markdown",
      "metadata": {
        "id": "view-in-github",
        "colab_type": "text"
      },
      "source": [
        "<a href=\"https://colab.research.google.com/github/LestyMV/Shark-attack/blob/main/Shark_Attack_5.ipynb\" target=\"_parent\"><img src=\"https://colab.research.google.com/assets/colab-badge.svg\" alt=\"Open In Colab\"/></a>"
      ]
    },
    {
      "cell_type": "code",
      "source": [
        "#Importing libraries\n",
        "import pandas as pd\n",
        "import re\n",
        "from matplotlib import pyplot as plt\n",
        "import plotly.express as px \n",
        "import numpy as np\n",
        "\n",
        "#Reading data\n",
        "shark_data = pd.read_csv(\"attacks.csv\", encoding=\"latin1\")\n",
        " \n",
        "# Set the case number as the index\n",
        "shark_data = shark_data.set_index('Case Number')\n",
        "\n",
        "# Remove columns I don't care for\n",
        "shark_data = shark_data.drop(axis=1,columns=shark_data.columns[14:], inplace=False)\n",
        "\n",
        "#Cleaning data\n",
        "display(shark_data.shape)\n",
        "shark_data[\"Country\"] = shark_data[\"Country\"].str.capitalize()\n",
        "shark_data.rename(columns={'Sex ':'Sex'},inplace=True)\n",
        "shark_data.rename(columns={'Species ':'Species'},inplace=True)"
      ],
      "metadata": {
        "colab": {
          "base_uri": "https://localhost:8080/",
          "height": 34
        },
        "id": "lsYk79C8AObT",
        "outputId": "f7664784-4a67-4bd3-a9b6-af3e91b115c6"
      },
      "execution_count": null,
      "outputs": [
        {
          "output_type": "display_data",
          "data": {
            "text/plain": [
              "(25723, 14)"
            ]
          },
          "metadata": {}
        }
      ]
    },
    {
      "cell_type": "code",
      "source": [
        "shark_data.columns"
      ],
      "metadata": {
        "colab": {
          "base_uri": "https://localhost:8080/"
        },
        "id": "2oP6VoAJCuDr",
        "outputId": "f9e667ad-b12c-4dd7-adcd-8166de7e83d5"
      },
      "execution_count": null,
      "outputs": [
        {
          "output_type": "execute_result",
          "data": {
            "text/plain": [
              "Index(['Date', 'Year', 'Type', 'Country', 'Area', 'Location', 'Activity',\n",
              "       'Name', 'Sex', 'Age', 'Injury', 'Fatal (Y/N)', 'Time', 'Species'],\n",
              "      dtype='object')"
            ]
          },
          "metadata": {},
          "execution_count": 2
        }
      ]
    },
    {
      "cell_type": "code",
      "source": [
        "shark_data.dtypes"
      ],
      "metadata": {
        "colab": {
          "base_uri": "https://localhost:8080/"
        },
        "id": "6hiJEy32DTBE",
        "outputId": "06c6e3b0-322c-4195-a29f-9471ec242f7d"
      },
      "execution_count": null,
      "outputs": [
        {
          "output_type": "execute_result",
          "data": {
            "text/plain": [
              "Date            object\n",
              "Year           float64\n",
              "Type            object\n",
              "Country         object\n",
              "Area            object\n",
              "Location        object\n",
              "Activity        object\n",
              "Name            object\n",
              "Sex             object\n",
              "Age             object\n",
              "Injury          object\n",
              "Fatal (Y/N)     object\n",
              "Time            object\n",
              "Species         object\n",
              "dtype: object"
            ]
          },
          "metadata": {},
          "execution_count": 3
        }
      ]
    },
    {
      "cell_type": "code",
      "source": [
        "def print_separator(sep, num, msg):\n",
        "  print(\"\\n\")\n",
        "  print(sep * num)\n",
        "  print(f\"{msg}\")\n",
        "  print(sep * num)\n",
        "\n",
        "\n",
        "def look_at_unique_values(column): \n",
        "  unique_values_cutoff = 500\n",
        "  unique_values = column.unique()\n",
        "  num_unique_values = len(unique_values)\n",
        "  if num_unique_values == len(column):\n",
        "    print(f\"Each value in the column is unique (total: {num_unique_values})\")\n",
        "  elif num_unique_values < unique_values_cutoff:\n",
        "    print(f\"Less than {unique_values_cutoff} unique values:\")\n",
        "    # It may get an error when sorting\n",
        "    try:\n",
        "      sorted = np.sort(unique_values)\n",
        "      print(\"Values are sorted\")\n",
        "      display(list(sorted))\n",
        "    except:\n",
        "      print(\"Could not sort values\")\n",
        "      display(list(unique_values))\n",
        "  else:\n",
        "    print(f\"More than {unique_values_cutoff} unique values (total: {num_unique_values})\")\n",
        "\n",
        "\n",
        "def look_at_edges(df, column_name):\n",
        "  # inner function\n",
        "  def show_head_and_tail(values):\n",
        "      num_items_to_slice = 10\n",
        "      display(list(values)[:num_items_to_slice])\n",
        "      display(list(values)[-num_items_to_slice:])\n",
        "\n",
        "  column = df[column_name]\n",
        "  unique_values = column.unique()\n",
        "  try:\n",
        "      sorted = np.sort(unique_values)\n",
        "      print(\"Unique values sorted, head and tail:\")\n",
        "      show_head_and_tail(sorted)\n",
        "  except TypeError as error:\n",
        "      print(f\"Could not sort values: {error}\")\n",
        "      print(\"..so let's try filtering NULL values and then sorting\")\n",
        "      non_null_uniques = df.loc[~df[column_name].isnull(), column_name].unique()\n",
        "      sorted = np.sort(non_null_uniques)\n",
        "      show_head_and_tail(sorted)\n",
        "\n",
        "\n",
        "def cast_to_type(column, maybe_type):\n",
        "  try:\n",
        "    column.astype(maybe_type)\n",
        "    print(f\"Casting to {maybe_type} was successful\")\n",
        "  except ValueError as error:\n",
        "    print(f\"Could not cast to {maybe_type}: {error}\")\n",
        "\n",
        "\n",
        "def find_non_default_missing_values(df, column_name, maybe_type):\n",
        "  long_separator_amount = 80\n",
        "  short_separator_amount = 40\n",
        "\n",
        "  print_separator(\"*\", long_separator_amount, f\"Finding non default missing values for column \\\"{column_name}\\\"\")\n",
        "\n",
        "  print(f\"Column \\\"{column_name}\\\" has datatype: {df.dtypes[column_name]}\")\n",
        "\n",
        "  column = df[column_name]\n",
        "\n",
        "  # A\n",
        "  print_separator(\"-\", short_separator_amount, \"A: Looking at unique values\")\n",
        "  look_at_unique_values(column)\n",
        "\n",
        "  # B\n",
        "  print_separator(\"-\", short_separator_amount, \"B: Sorting and looking at the edges\")\n",
        "  look_at_edges(df, column_name)\n",
        "\n",
        "  # C\n",
        "  print_separator(\"-\", short_separator_amount, f\"C: Casting to type: {maybe_type}\")\n",
        "  cast_to_type(column, maybe_type)\n",
        "\n",
        "  # D\n",
        "  print_separator(\"-\", short_separator_amount, \"D: Looking at frequency\")\n",
        "  display(column.value_counts(dropna=False))\n",
        "\n",
        "  print(\"\\n\")\n"
      ],
      "metadata": {
        "id": "oUYydq0eAjcV"
      },
      "execution_count": null,
      "outputs": []
    },
    {
      "cell_type": "code",
      "source": [
        "def replace_value(df, column_name, missing_old, missing_new):\n",
        " # ⚠️ Mutates df\n",
        "  df[column_name] = df[column_name].replace({missing_old: missing_new})\n",
        "\n",
        "# Helper functions\n",
        "def display_default_null_values(df, column_name):\n",
        "  nulls = df.loc[df[column_name].isnull()]\n",
        "  print(f\"Number of default null values in \\\"{column_name}\\\": {len(nulls)}\")\n",
        "\n",
        "\n",
        "# Easier to type\n",
        "nat = np.datetime64('nat')\n",
        "\n",
        "# ✅ Type\n",
        "# After looking at the type of the attack, it seems that \"Boating\", \"Boat\", and \"Boatomg\" meant the same type \n",
        "# I will change the type of attack to just Boat\n",
        "replace_value(shark_data, 'Type',\"Boating\" , \"Boat\")\n",
        "replace_value(shark_data, 'Type',\"Boatomg\" , \"Boat\")\n",
        "find_non_default_missing_values(shark_data, \"Type\", \"string\")\n",
        "\n",
        "\n",
        "# ✅ Age\n",
        "display_default_null_values(shark_data, \"Age\")\n",
        "find_non_default_missing_values(shark_data, \"Age\", \"int\")\n",
        "\n",
        "# ✅ Fatal (Y/N)\n",
        "replace_value(shark_data, 'Fatal (Y/N)',\"UNKNOWN\" , None)\n",
        "replace_value(shark_data, 'Fatal (Y/N)',\"2017\" , None)\n",
        "replace_value(shark_data, 'Fatal (Y/N)',np.nan , None)\n",
        "replace_value(shark_data, 'Fatal (Y/N)',\"M\" , \"N\")\n",
        "replace_value(shark_data, 'Fatal (Y/N)',\" N\" , \"N\")\n",
        "replace_value(shark_data, 'Fatal (Y/N)',\"N \" , \"N\")\n",
        "replace_value(shark_data, 'Fatal (Y/N)',\"y\" , \"Y\")\n",
        "find_non_default_missing_values(shark_data, \"Fatal (Y/N)\", \"string\")\n",
        "\n",
        "# ✅ Species\n",
        "replace_value(shark_data, 'Species', np.nan , \"Unknown shark\")\n",
        "find_non_default_missing_values(shark_data,'Species',\"string\")\n",
        "\n",
        "# ✅ Activity\n",
        "replace_value(shark_data, 'Activity', np.nan, None)\n",
        "find_non_default_missing_values(shark_data, \"Activity\", \"string\")"
      ],
      "metadata": {
        "colab": {
          "base_uri": "https://localhost:8080/",
          "height": 1000
        },
        "id": "CBk83royBERA",
        "outputId": "18f34ca7-0af1-4783-98eb-0b5c14f05729"
      },
      "execution_count": null,
      "outputs": [
        {
          "output_type": "stream",
          "name": "stdout",
          "text": [
            "\n",
            "\n",
            "********************************************************************************\n",
            "Finding non default missing values for column \"Type\"\n",
            "********************************************************************************\n",
            "Column \"Type\" has datatype: object\n",
            "\n",
            "\n",
            "----------------------------------------\n",
            "A: Looking at unique values\n",
            "----------------------------------------\n",
            "Less than 500 unique values:\n",
            "Could not sort values\n"
          ]
        },
        {
          "output_type": "display_data",
          "data": {
            "text/plain": [
              "['Boat',\n",
              " 'Unprovoked',\n",
              " 'Invalid',\n",
              " 'Provoked',\n",
              " 'Questionable',\n",
              " 'Sea Disaster',\n",
              " nan]"
            ]
          },
          "metadata": {}
        },
        {
          "output_type": "stream",
          "name": "stdout",
          "text": [
            "\n",
            "\n",
            "----------------------------------------\n",
            "B: Sorting and looking at the edges\n",
            "----------------------------------------\n",
            "Could not sort values: '<' not supported between instances of 'float' and 'str'\n",
            "..so let's try filtering NULL values and then sorting\n"
          ]
        },
        {
          "output_type": "display_data",
          "data": {
            "text/plain": [
              "['Boat', 'Invalid', 'Provoked', 'Questionable', 'Sea Disaster', 'Unprovoked']"
            ]
          },
          "metadata": {}
        },
        {
          "output_type": "display_data",
          "data": {
            "text/plain": [
              "['Boat', 'Invalid', 'Provoked', 'Questionable', 'Sea Disaster', 'Unprovoked']"
            ]
          },
          "metadata": {}
        },
        {
          "output_type": "stream",
          "name": "stdout",
          "text": [
            "\n",
            "\n",
            "----------------------------------------\n",
            "C: Casting to type: string\n",
            "----------------------------------------\n",
            "Casting to string was successful\n",
            "\n",
            "\n",
            "----------------------------------------\n",
            "D: Looking at frequency\n",
            "----------------------------------------\n"
          ]
        },
        {
          "output_type": "display_data",
          "data": {
            "text/plain": [
              "NaN             19425\n",
              "Unprovoked       4595\n",
              "Provoked          574\n",
              "Invalid           547\n",
              "Boat              341\n",
              "Sea Disaster      239\n",
              "Questionable        2\n",
              "Name: Type, dtype: int64"
            ]
          },
          "metadata": {}
        },
        {
          "output_type": "stream",
          "name": "stdout",
          "text": [
            "\n",
            "\n",
            "Number of default null values in \"Age\": 22252\n",
            "\n",
            "\n",
            "********************************************************************************\n",
            "Finding non default missing values for column \"Age\"\n",
            "********************************************************************************\n",
            "Column \"Age\" has datatype: object\n",
            "\n",
            "\n",
            "----------------------------------------\n",
            "A: Looking at unique values\n",
            "----------------------------------------\n",
            "Less than 500 unique values:\n",
            "Could not sort values\n"
          ]
        },
        {
          "output_type": "display_data",
          "data": {
            "text/plain": [
              "['57',\n",
              " '11',\n",
              " '48',\n",
              " nan,\n",
              " '18',\n",
              " '52',\n",
              " '15',\n",
              " '12',\n",
              " '32',\n",
              " '10',\n",
              " '21',\n",
              " '34',\n",
              " '30',\n",
              " '60',\n",
              " '33',\n",
              " '29',\n",
              " '54',\n",
              " '41',\n",
              " '37',\n",
              " '56',\n",
              " '19',\n",
              " '25',\n",
              " '69',\n",
              " '38',\n",
              " '55',\n",
              " '35',\n",
              " '46',\n",
              " '45',\n",
              " '14',\n",
              " '40s',\n",
              " '28',\n",
              " '20',\n",
              " '24',\n",
              " '26',\n",
              " '49',\n",
              " '22',\n",
              " '7',\n",
              " '31',\n",
              " '17',\n",
              " '40',\n",
              " '13',\n",
              " '42',\n",
              " '3',\n",
              " '8',\n",
              " '50',\n",
              " '16',\n",
              " '82',\n",
              " '73',\n",
              " '20s',\n",
              " '68',\n",
              " '51',\n",
              " '39',\n",
              " '58',\n",
              " 'Teen',\n",
              " '47',\n",
              " '61',\n",
              " '65',\n",
              " '36',\n",
              " '66',\n",
              " '43',\n",
              " '60s',\n",
              " '9',\n",
              " '72',\n",
              " '59',\n",
              " '6',\n",
              " '27',\n",
              " '64',\n",
              " '23',\n",
              " '71',\n",
              " '44',\n",
              " '62',\n",
              " '63',\n",
              " '70',\n",
              " '18 months',\n",
              " '53',\n",
              " '30s',\n",
              " '50s',\n",
              " 'teen',\n",
              " '77',\n",
              " '74',\n",
              " '28 & 26',\n",
              " '5',\n",
              " '86',\n",
              " '18 or 20',\n",
              " '12 or 13',\n",
              " '46 & 34',\n",
              " '28, 23 & 30',\n",
              " 'Teens',\n",
              " '36 & 26',\n",
              " '8 or 10',\n",
              " '84',\n",
              " '\\xa0 ',\n",
              " ' ',\n",
              " '30 or 36',\n",
              " '6½',\n",
              " '21 & ?',\n",
              " '75',\n",
              " '33 or 37',\n",
              " 'mid-30s',\n",
              " '23 & 20',\n",
              " ' 30',\n",
              " '7      &    31',\n",
              " ' 28',\n",
              " '20?',\n",
              " \"60's\",\n",
              " '32 & 30',\n",
              " '16 to 18',\n",
              " '87',\n",
              " '67',\n",
              " 'Elderly',\n",
              " 'mid-20s',\n",
              " 'Ca. 33',\n",
              " '74 ',\n",
              " '45 ',\n",
              " '21 or 26',\n",
              " '20 ',\n",
              " '>50',\n",
              " '18 to 22',\n",
              " 'adult',\n",
              " '9 & 12',\n",
              " '? & 19',\n",
              " '9 months',\n",
              " '25 to 35',\n",
              " '23 & 26',\n",
              " '1',\n",
              " '(adult)',\n",
              " '33 & 37',\n",
              " '25 or 28',\n",
              " '37, 67, 35, 27,  ? & 27',\n",
              " '21, 34,24 & 35',\n",
              " '30 & 32',\n",
              " '50 & 30',\n",
              " '17 & 35',\n",
              " 'X',\n",
              " '\"middle-age\"',\n",
              " '13 or 18',\n",
              " '34 & 19',\n",
              " '33 & 26',\n",
              " '2 to 3 months',\n",
              " 'MAKE LINE GREEN',\n",
              " ' 43',\n",
              " '81',\n",
              " '\"young\"',\n",
              " '7 or 8',\n",
              " '78',\n",
              " '17 & 16',\n",
              " 'F',\n",
              " 'Both 11',\n",
              " '9 or 10',\n",
              " 'young',\n",
              " '36 & 23',\n",
              " '  ',\n",
              " 'A.M.',\n",
              " '?    &   14',\n",
              " '10 or 12',\n",
              " '31 or 33',\n",
              " '2½',\n",
              " '13 or 14']"
            ]
          },
          "metadata": {}
        },
        {
          "output_type": "stream",
          "name": "stdout",
          "text": [
            "\n",
            "\n",
            "----------------------------------------\n",
            "B: Sorting and looking at the edges\n",
            "----------------------------------------\n",
            "Could not sort values: '<' not supported between instances of 'float' and 'str'\n",
            "..so let's try filtering NULL values and then sorting\n"
          ]
        },
        {
          "output_type": "display_data",
          "data": {
            "text/plain": [
              "[' ',\n",
              " '  ',\n",
              " ' 28',\n",
              " ' 30',\n",
              " ' 43',\n",
              " '\"middle-age\"',\n",
              " '\"young\"',\n",
              " '(adult)',\n",
              " '1',\n",
              " '10']"
            ]
          },
          "metadata": {}
        },
        {
          "output_type": "display_data",
          "data": {
            "text/plain": [
              "['MAKE LINE GREEN',\n",
              " 'Teen',\n",
              " 'Teens',\n",
              " 'X',\n",
              " 'adult',\n",
              " 'mid-20s',\n",
              " 'mid-30s',\n",
              " 'teen',\n",
              " 'young',\n",
              " '\\xa0 ']"
            ]
          },
          "metadata": {}
        },
        {
          "output_type": "stream",
          "name": "stdout",
          "text": [
            "\n",
            "\n",
            "----------------------------------------\n",
            "C: Casting to type: int\n",
            "----------------------------------------\n",
            "Could not cast to int: cannot convert float NaN to integer\n",
            "\n",
            "\n",
            "----------------------------------------\n",
            "D: Looking at frequency\n",
            "----------------------------------------\n"
          ]
        },
        {
          "output_type": "display_data",
          "data": {
            "text/plain": [
              "NaN               22252\n",
              "17                  154\n",
              "18                  150\n",
              "19                  142\n",
              "20                  141\n",
              "                  ...  \n",
              "20?                   1\n",
              " 28                   1\n",
              "7      &    31        1\n",
              " 30                   1\n",
              "13 or 14              1\n",
              "Name: Age, Length: 158, dtype: int64"
            ]
          },
          "metadata": {}
        },
        {
          "output_type": "stream",
          "name": "stdout",
          "text": [
            "\n",
            "\n",
            "\n",
            "\n",
            "********************************************************************************\n",
            "Finding non default missing values for column \"Fatal (Y/N)\"\n",
            "********************************************************************************\n",
            "Column \"Fatal (Y/N)\" has datatype: object\n",
            "\n",
            "\n",
            "----------------------------------------\n",
            "A: Looking at unique values\n",
            "----------------------------------------\n",
            "Less than 500 unique values:\n",
            "Could not sort values\n"
          ]
        },
        {
          "output_type": "display_data",
          "data": {
            "text/plain": [
              "['N', 'Y', None]"
            ]
          },
          "metadata": {}
        },
        {
          "output_type": "stream",
          "name": "stdout",
          "text": [
            "\n",
            "\n",
            "----------------------------------------\n",
            "B: Sorting and looking at the edges\n",
            "----------------------------------------\n",
            "Could not sort values: '<' not supported between instances of 'NoneType' and 'str'\n",
            "..so let's try filtering NULL values and then sorting\n"
          ]
        },
        {
          "output_type": "display_data",
          "data": {
            "text/plain": [
              "['N', 'Y']"
            ]
          },
          "metadata": {}
        },
        {
          "output_type": "display_data",
          "data": {
            "text/plain": [
              "['N', 'Y']"
            ]
          },
          "metadata": {}
        },
        {
          "output_type": "stream",
          "name": "stdout",
          "text": [
            "\n",
            "\n",
            "----------------------------------------\n",
            "C: Casting to type: string\n",
            "----------------------------------------\n",
            "Casting to string was successful\n",
            "\n",
            "\n",
            "----------------------------------------\n",
            "D: Looking at frequency\n",
            "----------------------------------------\n"
          ]
        },
        {
          "output_type": "display_data",
          "data": {
            "text/plain": [
              "None    20032\n",
              "N        4302\n",
              "Y        1389\n",
              "Name: Fatal (Y/N), dtype: int64"
            ]
          },
          "metadata": {}
        },
        {
          "output_type": "stream",
          "name": "stdout",
          "text": [
            "\n",
            "\n",
            "\n",
            "\n",
            "********************************************************************************\n",
            "Finding non default missing values for column \"Species\"\n",
            "********************************************************************************\n",
            "Column \"Species\" has datatype: object\n",
            "\n",
            "\n",
            "----------------------------------------\n",
            "A: Looking at unique values\n",
            "----------------------------------------\n",
            "More than 500 unique values (total: 1550)\n",
            "\n",
            "\n",
            "----------------------------------------\n",
            "B: Sorting and looking at the edges\n",
            "----------------------------------------\n",
            "Unique values sorted, head and tail:\n"
          ]
        },
        {
          "output_type": "display_data",
          "data": {
            "text/plain": [
              "[' ',\n",
              " ' \"gummy\" shark (Rhizoprionodon or Loxodon) 1.2 m [4\\']',\n",
              " \" 1.5 m [5'] dusky shark\",\n",
              " \" 6' to 8' shark\",\n",
              " \" Blacktip shark, C. maculipinnis. 1.9 m to 2.1 m [6.5' to 7'] \",\n",
              " ' Bull shark, 1.2m ',\n",
              " ' Bull shark, 2.5 m',\n",
              " \" Bull shark, 5'\",\n",
              " \" Bull shark, 8'\",\n",
              " \" Galapagos shark, 6'\"]"
            ]
          },
          "metadata": {}
        },
        {
          "output_type": "display_data",
          "data": {
            "text/plain": [
              "['small hammerhead shark',\n",
              " 'small nurse shark',\n",
              " 'small shark',\n",
              " 'small sharks',\n",
              " \"small sharks'\",\n",
              " 'unknown, possibly a white shark',\n",
              " 'whaler shark',\n",
              " 'white shark',\n",
              " '\\x93small brown shark\\x94',\n",
              " '\\xa0 ']"
            ]
          },
          "metadata": {}
        },
        {
          "output_type": "stream",
          "name": "stdout",
          "text": [
            "\n",
            "\n",
            "----------------------------------------\n",
            "C: Casting to type: string\n",
            "----------------------------------------\n",
            "Casting to string was successful\n",
            "\n",
            "\n",
            "----------------------------------------\n",
            "D: Looking at frequency\n",
            "----------------------------------------\n"
          ]
        },
        {
          "output_type": "display_data",
          "data": {
            "text/plain": [
              "Unknown shark                                                                                                                    22259\n",
              "White shark                                                                                                                        163\n",
              "Shark involvement prior to death was not confirmed                                                                                 105\n",
              "Invalid                                                                                                                            102\n",
              "Shark involvement not confirmed                                                                                                     88\n",
              "                                                                                                                                 ...  \n",
              "1.2 m to 1.5 m [4.5' to 5'] shark                                                                                                    1\n",
              "Bull shark, 2.3 m [7.5']                                                                                                             1\n",
              "0.9 m  [3'] shark                                                                                                                    1\n",
              "Mako shark, 14'                                                                                                                      1\n",
              "Said to involve a grey nurse shark that leapt out of the water and  seized the boy but species identification is questionable        1\n",
              "Name: Species, Length: 1550, dtype: int64"
            ]
          },
          "metadata": {}
        },
        {
          "output_type": "stream",
          "name": "stdout",
          "text": [
            "\n",
            "\n",
            "\n",
            "\n",
            "********************************************************************************\n",
            "Finding non default missing values for column \"Activity\"\n",
            "********************************************************************************\n",
            "Column \"Activity\" has datatype: object\n",
            "\n",
            "\n",
            "----------------------------------------\n",
            "A: Looking at unique values\n",
            "----------------------------------------\n",
            "More than 500 unique values (total: 1533)\n",
            "\n",
            "\n",
            "----------------------------------------\n",
            "B: Sorting and looking at the edges\n",
            "----------------------------------------\n",
            "Could not sort values: '<' not supported between instances of 'NoneType' and 'str'\n",
            "..so let's try filtering NULL values and then sorting\n"
          ]
        },
        {
          "output_type": "display_data",
          "data": {
            "text/plain": [
              "[' ',\n",
              " '   ',\n",
              " ' a canoe was pursuing a schooner that had forcibily abducted 5 young girls',\n",
              " '\"Boat accident\"',\n",
              " '\"Climbing up to ship after repairing the stern in water\"',\n",
              " '\"Crossing the river\"',\n",
              " '\"Flying Tiger\" transport plane went down with 5 men onboard',\n",
              " '\"Riding waves on a board\"',\n",
              " '\"Swimming vigorously\"',\n",
              " '.']"
            ]
          },
          "metadata": {}
        },
        {
          "output_type": "display_data",
          "data": {
            "text/plain": [
              "['preparing to go skin diving',\n",
              " 'pêcheur de bichiques',\n",
              " 'seaplane Columbus ditched in the sea',\n",
              " 'ship M.V. Rizal sank during typhoon',\n",
              " 'ship William Penn grounded & broke apart',\n",
              " 'ship torpedoed 400 miles off the African coas. Man was clinging to hatch cover',\n",
              " 'small boat',\n",
              " 'wreck of the State Oil Company ship Permina',\n",
              " 'yachting accident',\n",
              " 'yachtsman in a zodiac']"
            ]
          },
          "metadata": {}
        },
        {
          "output_type": "stream",
          "name": "stdout",
          "text": [
            "\n",
            "\n",
            "----------------------------------------\n",
            "C: Casting to type: string\n",
            "----------------------------------------\n",
            "Casting to string was successful\n",
            "\n",
            "\n",
            "----------------------------------------\n",
            "D: Looking at frequency\n",
            "----------------------------------------\n"
          ]
        },
        {
          "output_type": "display_data",
          "data": {
            "text/plain": [
              "None                                      19965\n",
              "Surfing                                     971\n",
              "Swimming                                    869\n",
              "Fishing                                     431\n",
              "Spearfishing                                333\n",
              "                                          ...  \n",
              "Playing with a frisbee in the shallows        1\n",
              "Sinking of the ferryboat Dumaguete            1\n",
              "Wreck of the Storm King                       1\n",
              "Feeding mullet to sharks                      1\n",
              "Wreck of  large double sailing canoe          1\n",
              "Name: Activity, Length: 1533, dtype: int64"
            ]
          },
          "metadata": {}
        },
        {
          "output_type": "stream",
          "name": "stdout",
          "text": [
            "\n",
            "\n"
          ]
        }
      ]
    },
    {
      "cell_type": "markdown",
      "source": [
        "## **What are the most dangerous types of sharks to humans?**\n",
        "\n",
        "\n",
        "\n",
        "\n",
        "\n",
        "\n",
        "---\n",
        "\n"
      ],
      "metadata": {
        "id": "tWIqhbeMP57D"
      }
    },
    {
      "cell_type": "code",
      "source": [
        "# Create new column to stored the extracted Shark species\n",
        "shark_data['New Species'] = None\n",
        "\n",
        "# Regular Expression pattern used to extract shark species (ultimately getting everything infront of the word \"shark\")\n",
        "shark_pattern = r'.* (shark|Shark)'\n",
        "\n",
        "# Looping through every row in the dataFrame\n",
        "for row in range(len(shark_data)):\n",
        "    try:\n",
        "        shark_species = re.search(shark_pattern, shark_data.iat[row, shark_data.columns.get_loc('Species')]).group()\n",
        "        shark_data.iat[row, shark_data.columns.get_loc('New Species')] = shark_species\n",
        "    except:\n",
        "        # Assuming that if there is nothing before string shark OR doesn't contain string shark at all,\n",
        "        # then I will put the string Shark involvement not confirmed instead\n",
        "        shark_data.iat[row, shark_data.columns.get_loc('New Species')] = \"Shark involvement not confirmed\"\n",
        "\n",
        "Species_count = shark_data['New Species'].value_counts().reset_index().rename(columns={'New Species':'Count','index':'Species'})\n",
        "Species_count.head(10)"
      ],
      "metadata": {
        "colab": {
          "base_uri": "https://localhost:8080/",
          "height": 363
        },
        "id": "jKvnFe0wRbZv",
        "outputId": "b4c62df6-85a6-45db-85dd-fc6fd2a093f2"
      },
      "execution_count": null,
      "outputs": [
        {
          "output_type": "execute_result",
          "data": {
            "text/plain": [
              "                           Species  Count\n",
              "0                    Unknown shark  22259\n",
              "1  Shark involvement not confirmed    561\n",
              "2                      White shark    427\n",
              "3                      Tiger shark    233\n",
              "4                       Bull shark    122\n",
              "5              Bronze whaler shark     56\n",
              "6                      Nurse shark     48\n",
              "7                  Wobbegong shark     45\n",
              "8                       Mako shark     43\n",
              "9                Raggedtooth shark     42"
            ],
            "text/html": [
              "\n",
              "  <div id=\"df-67a257dc-a5d0-4265-ae1c-cfef400c0870\">\n",
              "    <div class=\"colab-df-container\">\n",
              "      <div>\n",
              "<style scoped>\n",
              "    .dataframe tbody tr th:only-of-type {\n",
              "        vertical-align: middle;\n",
              "    }\n",
              "\n",
              "    .dataframe tbody tr th {\n",
              "        vertical-align: top;\n",
              "    }\n",
              "\n",
              "    .dataframe thead th {\n",
              "        text-align: right;\n",
              "    }\n",
              "</style>\n",
              "<table border=\"1\" class=\"dataframe\">\n",
              "  <thead>\n",
              "    <tr style=\"text-align: right;\">\n",
              "      <th></th>\n",
              "      <th>Species</th>\n",
              "      <th>Count</th>\n",
              "    </tr>\n",
              "  </thead>\n",
              "  <tbody>\n",
              "    <tr>\n",
              "      <th>0</th>\n",
              "      <td>Unknown shark</td>\n",
              "      <td>22259</td>\n",
              "    </tr>\n",
              "    <tr>\n",
              "      <th>1</th>\n",
              "      <td>Shark involvement not confirmed</td>\n",
              "      <td>561</td>\n",
              "    </tr>\n",
              "    <tr>\n",
              "      <th>2</th>\n",
              "      <td>White shark</td>\n",
              "      <td>427</td>\n",
              "    </tr>\n",
              "    <tr>\n",
              "      <th>3</th>\n",
              "      <td>Tiger shark</td>\n",
              "      <td>233</td>\n",
              "    </tr>\n",
              "    <tr>\n",
              "      <th>4</th>\n",
              "      <td>Bull shark</td>\n",
              "      <td>122</td>\n",
              "    </tr>\n",
              "    <tr>\n",
              "      <th>5</th>\n",
              "      <td>Bronze whaler shark</td>\n",
              "      <td>56</td>\n",
              "    </tr>\n",
              "    <tr>\n",
              "      <th>6</th>\n",
              "      <td>Nurse shark</td>\n",
              "      <td>48</td>\n",
              "    </tr>\n",
              "    <tr>\n",
              "      <th>7</th>\n",
              "      <td>Wobbegong shark</td>\n",
              "      <td>45</td>\n",
              "    </tr>\n",
              "    <tr>\n",
              "      <th>8</th>\n",
              "      <td>Mako shark</td>\n",
              "      <td>43</td>\n",
              "    </tr>\n",
              "    <tr>\n",
              "      <th>9</th>\n",
              "      <td>Raggedtooth shark</td>\n",
              "      <td>42</td>\n",
              "    </tr>\n",
              "  </tbody>\n",
              "</table>\n",
              "</div>\n",
              "      <button class=\"colab-df-convert\" onclick=\"convertToInteractive('df-67a257dc-a5d0-4265-ae1c-cfef400c0870')\"\n",
              "              title=\"Convert this dataframe to an interactive table.\"\n",
              "              style=\"display:none;\">\n",
              "        \n",
              "  <svg xmlns=\"http://www.w3.org/2000/svg\" height=\"24px\"viewBox=\"0 0 24 24\"\n",
              "       width=\"24px\">\n",
              "    <path d=\"M0 0h24v24H0V0z\" fill=\"none\"/>\n",
              "    <path d=\"M18.56 5.44l.94 2.06.94-2.06 2.06-.94-2.06-.94-.94-2.06-.94 2.06-2.06.94zm-11 1L8.5 8.5l.94-2.06 2.06-.94-2.06-.94L8.5 2.5l-.94 2.06-2.06.94zm10 10l.94 2.06.94-2.06 2.06-.94-2.06-.94-.94-2.06-.94 2.06-2.06.94z\"/><path d=\"M17.41 7.96l-1.37-1.37c-.4-.4-.92-.59-1.43-.59-.52 0-1.04.2-1.43.59L10.3 9.45l-7.72 7.72c-.78.78-.78 2.05 0 2.83L4 21.41c.39.39.9.59 1.41.59.51 0 1.02-.2 1.41-.59l7.78-7.78 2.81-2.81c.8-.78.8-2.07 0-2.86zM5.41 20L4 18.59l7.72-7.72 1.47 1.35L5.41 20z\"/>\n",
              "  </svg>\n",
              "      </button>\n",
              "      \n",
              "  <style>\n",
              "    .colab-df-container {\n",
              "      display:flex;\n",
              "      flex-wrap:wrap;\n",
              "      gap: 12px;\n",
              "    }\n",
              "\n",
              "    .colab-df-convert {\n",
              "      background-color: #E8F0FE;\n",
              "      border: none;\n",
              "      border-radius: 50%;\n",
              "      cursor: pointer;\n",
              "      display: none;\n",
              "      fill: #1967D2;\n",
              "      height: 32px;\n",
              "      padding: 0 0 0 0;\n",
              "      width: 32px;\n",
              "    }\n",
              "\n",
              "    .colab-df-convert:hover {\n",
              "      background-color: #E2EBFA;\n",
              "      box-shadow: 0px 1px 2px rgba(60, 64, 67, 0.3), 0px 1px 3px 1px rgba(60, 64, 67, 0.15);\n",
              "      fill: #174EA6;\n",
              "    }\n",
              "\n",
              "    [theme=dark] .colab-df-convert {\n",
              "      background-color: #3B4455;\n",
              "      fill: #D2E3FC;\n",
              "    }\n",
              "\n",
              "    [theme=dark] .colab-df-convert:hover {\n",
              "      background-color: #434B5C;\n",
              "      box-shadow: 0px 1px 3px 1px rgba(0, 0, 0, 0.15);\n",
              "      filter: drop-shadow(0px 1px 2px rgba(0, 0, 0, 0.3));\n",
              "      fill: #FFFFFF;\n",
              "    }\n",
              "  </style>\n",
              "\n",
              "      <script>\n",
              "        const buttonEl =\n",
              "          document.querySelector('#df-67a257dc-a5d0-4265-ae1c-cfef400c0870 button.colab-df-convert');\n",
              "        buttonEl.style.display =\n",
              "          google.colab.kernel.accessAllowed ? 'block' : 'none';\n",
              "\n",
              "        async function convertToInteractive(key) {\n",
              "          const element = document.querySelector('#df-67a257dc-a5d0-4265-ae1c-cfef400c0870');\n",
              "          const dataTable =\n",
              "            await google.colab.kernel.invokeFunction('convertToInteractive',\n",
              "                                                     [key], {});\n",
              "          if (!dataTable) return;\n",
              "\n",
              "          const docLinkHtml = 'Like what you see? Visit the ' +\n",
              "            '<a target=\"_blank\" href=https://colab.research.google.com/notebooks/data_table.ipynb>data table notebook</a>'\n",
              "            + ' to learn more about interactive tables.';\n",
              "          element.innerHTML = '';\n",
              "          dataTable['output_type'] = 'display_data';\n",
              "          await google.colab.output.renderOutput(dataTable, element);\n",
              "          const docLink = document.createElement('div');\n",
              "          docLink.innerHTML = docLinkHtml;\n",
              "          element.appendChild(docLink);\n",
              "        }\n",
              "      </script>\n",
              "    </div>\n",
              "  </div>\n",
              "  "
            ]
          },
          "metadata": {},
          "execution_count": 7
        }
      ]
    },
    {
      "cell_type": "code",
      "source": [
        "# Visualization - I won't be including first two rows of this dataFrame because the species of Shark is unknwon\n",
        "fig = px.pie(data_frame = Species_count.iloc[2:12,:],\n",
        "             values = 'Count',\n",
        "             names = 'Species',\n",
        "             title = 'Top 10 Dangerous Shark Species',\n",
        "             color_discrete_sequence=px.colors.qualitative.Prism\n",
        "             )\n",
        "\n",
        "fig.update_traces(textposition ='outside',\n",
        "                  textinfo = 'percent', pull = [0.1]*10)\n",
        "fig.update_layout(paper_bgcolor='cornsilk',\n",
        "                  legend_title = 'Shark Type',\n",
        "                  font = dict(\n",
        "                      family = \"Courier New, monospace\",\n",
        "                      size = 18,\n",
        "                      color = 'black'\n",
        "                  ))\n",
        "\n",
        "fig.show()"
      ],
      "metadata": {
        "colab": {
          "base_uri": "https://localhost:8080/",
          "height": 542
        },
        "id": "W9PLdQFLV0_i",
        "outputId": "190e1064-df7a-4f01-fd7b-0de572069748"
      },
      "execution_count": null,
      "outputs": [
        {
          "output_type": "display_data",
          "data": {
            "text/html": [
              "<html>\n",
              "<head><meta charset=\"utf-8\" /></head>\n",
              "<body>\n",
              "    <div>            <script src=\"https://cdnjs.cloudflare.com/ajax/libs/mathjax/2.7.5/MathJax.js?config=TeX-AMS-MML_SVG\"></script><script type=\"text/javascript\">if (window.MathJax && window.MathJax.Hub && window.MathJax.Hub.Config) {window.MathJax.Hub.Config({SVG: {font: \"STIX-Web\"}});}</script>                <script type=\"text/javascript\">window.PlotlyConfig = {MathJaxConfig: 'local'};</script>\n",
              "        <script src=\"https://cdn.plot.ly/plotly-2.18.2.min.js\"></script>                <div id=\"1dccbffa-3a6b-4d6a-8431-d80962d810c4\" class=\"plotly-graph-div\" style=\"height:525px; width:100%;\"></div>            <script type=\"text/javascript\">                                    window.PLOTLYENV=window.PLOTLYENV || {};                                    if (document.getElementById(\"1dccbffa-3a6b-4d6a-8431-d80962d810c4\")) {                    Plotly.newPlot(                        \"1dccbffa-3a6b-4d6a-8431-d80962d810c4\",                        [{\"domain\":{\"x\":[0.0,1.0],\"y\":[0.0,1.0]},\"hovertemplate\":\"Species=%{label}<br>Count=%{value}<extra></extra>\",\"labels\":[\"White shark\",\"Tiger shark\",\"Bull shark\",\"Bronze whaler shark\",\"Nurse shark\",\"Wobbegong shark\",\"Mako shark\",\"Raggedtooth shark\",\"4' shark\",\"6' shark\"],\"legendgroup\":\"\",\"name\":\"\",\"showlegend\":true,\"values\":[427,233,122,56,48,45,43,42,41,40],\"type\":\"pie\",\"pull\":[0.1,0.1,0.1,0.1,0.1,0.1,0.1,0.1,0.1,0.1],\"textinfo\":\"percent\",\"textposition\":\"outside\"}],                        {\"template\":{\"data\":{\"histogram2dcontour\":[{\"type\":\"histogram2dcontour\",\"colorbar\":{\"outlinewidth\":0,\"ticks\":\"\"},\"colorscale\":[[0.0,\"#0d0887\"],[0.1111111111111111,\"#46039f\"],[0.2222222222222222,\"#7201a8\"],[0.3333333333333333,\"#9c179e\"],[0.4444444444444444,\"#bd3786\"],[0.5555555555555556,\"#d8576b\"],[0.6666666666666666,\"#ed7953\"],[0.7777777777777778,\"#fb9f3a\"],[0.8888888888888888,\"#fdca26\"],[1.0,\"#f0f921\"]]}],\"choropleth\":[{\"type\":\"choropleth\",\"colorbar\":{\"outlinewidth\":0,\"ticks\":\"\"}}],\"histogram2d\":[{\"type\":\"histogram2d\",\"colorbar\":{\"outlinewidth\":0,\"ticks\":\"\"},\"colorscale\":[[0.0,\"#0d0887\"],[0.1111111111111111,\"#46039f\"],[0.2222222222222222,\"#7201a8\"],[0.3333333333333333,\"#9c179e\"],[0.4444444444444444,\"#bd3786\"],[0.5555555555555556,\"#d8576b\"],[0.6666666666666666,\"#ed7953\"],[0.7777777777777778,\"#fb9f3a\"],[0.8888888888888888,\"#fdca26\"],[1.0,\"#f0f921\"]]}],\"heatmap\":[{\"type\":\"heatmap\",\"colorbar\":{\"outlinewidth\":0,\"ticks\":\"\"},\"colorscale\":[[0.0,\"#0d0887\"],[0.1111111111111111,\"#46039f\"],[0.2222222222222222,\"#7201a8\"],[0.3333333333333333,\"#9c179e\"],[0.4444444444444444,\"#bd3786\"],[0.5555555555555556,\"#d8576b\"],[0.6666666666666666,\"#ed7953\"],[0.7777777777777778,\"#fb9f3a\"],[0.8888888888888888,\"#fdca26\"],[1.0,\"#f0f921\"]]}],\"heatmapgl\":[{\"type\":\"heatmapgl\",\"colorbar\":{\"outlinewidth\":0,\"ticks\":\"\"},\"colorscale\":[[0.0,\"#0d0887\"],[0.1111111111111111,\"#46039f\"],[0.2222222222222222,\"#7201a8\"],[0.3333333333333333,\"#9c179e\"],[0.4444444444444444,\"#bd3786\"],[0.5555555555555556,\"#d8576b\"],[0.6666666666666666,\"#ed7953\"],[0.7777777777777778,\"#fb9f3a\"],[0.8888888888888888,\"#fdca26\"],[1.0,\"#f0f921\"]]}],\"contourcarpet\":[{\"type\":\"contourcarpet\",\"colorbar\":{\"outlinewidth\":0,\"ticks\":\"\"}}],\"contour\":[{\"type\":\"contour\",\"colorbar\":{\"outlinewidth\":0,\"ticks\":\"\"},\"colorscale\":[[0.0,\"#0d0887\"],[0.1111111111111111,\"#46039f\"],[0.2222222222222222,\"#7201a8\"],[0.3333333333333333,\"#9c179e\"],[0.4444444444444444,\"#bd3786\"],[0.5555555555555556,\"#d8576b\"],[0.6666666666666666,\"#ed7953\"],[0.7777777777777778,\"#fb9f3a\"],[0.8888888888888888,\"#fdca26\"],[1.0,\"#f0f921\"]]}],\"surface\":[{\"type\":\"surface\",\"colorbar\":{\"outlinewidth\":0,\"ticks\":\"\"},\"colorscale\":[[0.0,\"#0d0887\"],[0.1111111111111111,\"#46039f\"],[0.2222222222222222,\"#7201a8\"],[0.3333333333333333,\"#9c179e\"],[0.4444444444444444,\"#bd3786\"],[0.5555555555555556,\"#d8576b\"],[0.6666666666666666,\"#ed7953\"],[0.7777777777777778,\"#fb9f3a\"],[0.8888888888888888,\"#fdca26\"],[1.0,\"#f0f921\"]]}],\"mesh3d\":[{\"type\":\"mesh3d\",\"colorbar\":{\"outlinewidth\":0,\"ticks\":\"\"}}],\"scatter\":[{\"fillpattern\":{\"fillmode\":\"overlay\",\"size\":10,\"solidity\":0.2},\"type\":\"scatter\"}],\"parcoords\":[{\"type\":\"parcoords\",\"line\":{\"colorbar\":{\"outlinewidth\":0,\"ticks\":\"\"}}}],\"scatterpolargl\":[{\"type\":\"scatterpolargl\",\"marker\":{\"colorbar\":{\"outlinewidth\":0,\"ticks\":\"\"}}}],\"bar\":[{\"error_x\":{\"color\":\"#2a3f5f\"},\"error_y\":{\"color\":\"#2a3f5f\"},\"marker\":{\"line\":{\"color\":\"#E5ECF6\",\"width\":0.5},\"pattern\":{\"fillmode\":\"overlay\",\"size\":10,\"solidity\":0.2}},\"type\":\"bar\"}],\"scattergeo\":[{\"type\":\"scattergeo\",\"marker\":{\"colorbar\":{\"outlinewidth\":0,\"ticks\":\"\"}}}],\"scatterpolar\":[{\"type\":\"scatterpolar\",\"marker\":{\"colorbar\":{\"outlinewidth\":0,\"ticks\":\"\"}}}],\"histogram\":[{\"marker\":{\"pattern\":{\"fillmode\":\"overlay\",\"size\":10,\"solidity\":0.2}},\"type\":\"histogram\"}],\"scattergl\":[{\"type\":\"scattergl\",\"marker\":{\"colorbar\":{\"outlinewidth\":0,\"ticks\":\"\"}}}],\"scatter3d\":[{\"type\":\"scatter3d\",\"line\":{\"colorbar\":{\"outlinewidth\":0,\"ticks\":\"\"}},\"marker\":{\"colorbar\":{\"outlinewidth\":0,\"ticks\":\"\"}}}],\"scattermapbox\":[{\"type\":\"scattermapbox\",\"marker\":{\"colorbar\":{\"outlinewidth\":0,\"ticks\":\"\"}}}],\"scatterternary\":[{\"type\":\"scatterternary\",\"marker\":{\"colorbar\":{\"outlinewidth\":0,\"ticks\":\"\"}}}],\"scattercarpet\":[{\"type\":\"scattercarpet\",\"marker\":{\"colorbar\":{\"outlinewidth\":0,\"ticks\":\"\"}}}],\"carpet\":[{\"aaxis\":{\"endlinecolor\":\"#2a3f5f\",\"gridcolor\":\"white\",\"linecolor\":\"white\",\"minorgridcolor\":\"white\",\"startlinecolor\":\"#2a3f5f\"},\"baxis\":{\"endlinecolor\":\"#2a3f5f\",\"gridcolor\":\"white\",\"linecolor\":\"white\",\"minorgridcolor\":\"white\",\"startlinecolor\":\"#2a3f5f\"},\"type\":\"carpet\"}],\"table\":[{\"cells\":{\"fill\":{\"color\":\"#EBF0F8\"},\"line\":{\"color\":\"white\"}},\"header\":{\"fill\":{\"color\":\"#C8D4E3\"},\"line\":{\"color\":\"white\"}},\"type\":\"table\"}],\"barpolar\":[{\"marker\":{\"line\":{\"color\":\"#E5ECF6\",\"width\":0.5},\"pattern\":{\"fillmode\":\"overlay\",\"size\":10,\"solidity\":0.2}},\"type\":\"barpolar\"}],\"pie\":[{\"automargin\":true,\"type\":\"pie\"}]},\"layout\":{\"autotypenumbers\":\"strict\",\"colorway\":[\"#636efa\",\"#EF553B\",\"#00cc96\",\"#ab63fa\",\"#FFA15A\",\"#19d3f3\",\"#FF6692\",\"#B6E880\",\"#FF97FF\",\"#FECB52\"],\"font\":{\"color\":\"#2a3f5f\"},\"hovermode\":\"closest\",\"hoverlabel\":{\"align\":\"left\"},\"paper_bgcolor\":\"white\",\"plot_bgcolor\":\"#E5ECF6\",\"polar\":{\"bgcolor\":\"#E5ECF6\",\"angularaxis\":{\"gridcolor\":\"white\",\"linecolor\":\"white\",\"ticks\":\"\"},\"radialaxis\":{\"gridcolor\":\"white\",\"linecolor\":\"white\",\"ticks\":\"\"}},\"ternary\":{\"bgcolor\":\"#E5ECF6\",\"aaxis\":{\"gridcolor\":\"white\",\"linecolor\":\"white\",\"ticks\":\"\"},\"baxis\":{\"gridcolor\":\"white\",\"linecolor\":\"white\",\"ticks\":\"\"},\"caxis\":{\"gridcolor\":\"white\",\"linecolor\":\"white\",\"ticks\":\"\"}},\"coloraxis\":{\"colorbar\":{\"outlinewidth\":0,\"ticks\":\"\"}},\"colorscale\":{\"sequential\":[[0.0,\"#0d0887\"],[0.1111111111111111,\"#46039f\"],[0.2222222222222222,\"#7201a8\"],[0.3333333333333333,\"#9c179e\"],[0.4444444444444444,\"#bd3786\"],[0.5555555555555556,\"#d8576b\"],[0.6666666666666666,\"#ed7953\"],[0.7777777777777778,\"#fb9f3a\"],[0.8888888888888888,\"#fdca26\"],[1.0,\"#f0f921\"]],\"sequentialminus\":[[0.0,\"#0d0887\"],[0.1111111111111111,\"#46039f\"],[0.2222222222222222,\"#7201a8\"],[0.3333333333333333,\"#9c179e\"],[0.4444444444444444,\"#bd3786\"],[0.5555555555555556,\"#d8576b\"],[0.6666666666666666,\"#ed7953\"],[0.7777777777777778,\"#fb9f3a\"],[0.8888888888888888,\"#fdca26\"],[1.0,\"#f0f921\"]],\"diverging\":[[0,\"#8e0152\"],[0.1,\"#c51b7d\"],[0.2,\"#de77ae\"],[0.3,\"#f1b6da\"],[0.4,\"#fde0ef\"],[0.5,\"#f7f7f7\"],[0.6,\"#e6f5d0\"],[0.7,\"#b8e186\"],[0.8,\"#7fbc41\"],[0.9,\"#4d9221\"],[1,\"#276419\"]]},\"xaxis\":{\"gridcolor\":\"white\",\"linecolor\":\"white\",\"ticks\":\"\",\"title\":{\"standoff\":15},\"zerolinecolor\":\"white\",\"automargin\":true,\"zerolinewidth\":2},\"yaxis\":{\"gridcolor\":\"white\",\"linecolor\":\"white\",\"ticks\":\"\",\"title\":{\"standoff\":15},\"zerolinecolor\":\"white\",\"automargin\":true,\"zerolinewidth\":2},\"scene\":{\"xaxis\":{\"backgroundcolor\":\"#E5ECF6\",\"gridcolor\":\"white\",\"linecolor\":\"white\",\"showbackground\":true,\"ticks\":\"\",\"zerolinecolor\":\"white\",\"gridwidth\":2},\"yaxis\":{\"backgroundcolor\":\"#E5ECF6\",\"gridcolor\":\"white\",\"linecolor\":\"white\",\"showbackground\":true,\"ticks\":\"\",\"zerolinecolor\":\"white\",\"gridwidth\":2},\"zaxis\":{\"backgroundcolor\":\"#E5ECF6\",\"gridcolor\":\"white\",\"linecolor\":\"white\",\"showbackground\":true,\"ticks\":\"\",\"zerolinecolor\":\"white\",\"gridwidth\":2}},\"shapedefaults\":{\"line\":{\"color\":\"#2a3f5f\"}},\"annotationdefaults\":{\"arrowcolor\":\"#2a3f5f\",\"arrowhead\":0,\"arrowwidth\":1},\"geo\":{\"bgcolor\":\"white\",\"landcolor\":\"#E5ECF6\",\"subunitcolor\":\"white\",\"showland\":true,\"showlakes\":true,\"lakecolor\":\"white\"},\"title\":{\"x\":0.05},\"mapbox\":{\"style\":\"light\"}}},\"legend\":{\"tracegroupgap\":0,\"title\":{\"text\":\"Shark Type\"}},\"title\":{\"text\":\"Top 10 Dangerous Shark Species\"},\"piecolorway\":[\"rgb(95, 70, 144)\",\"rgb(29, 105, 150)\",\"rgb(56, 166, 165)\",\"rgb(15, 133, 84)\",\"rgb(115, 175, 72)\",\"rgb(237, 173, 8)\",\"rgb(225, 124, 5)\",\"rgb(204, 80, 62)\",\"rgb(148, 52, 110)\",\"rgb(111, 64, 112)\",\"rgb(102, 102, 102)\"],\"font\":{\"family\":\"Courier New, monospace\",\"size\":18,\"color\":\"black\"},\"paper_bgcolor\":\"cornsilk\"},                        {\"responsive\": true}                    ).then(function(){\n",
              "                            \n",
              "var gd = document.getElementById('1dccbffa-3a6b-4d6a-8431-d80962d810c4');\n",
              "var x = new MutationObserver(function (mutations, observer) {{\n",
              "        var display = window.getComputedStyle(gd).display;\n",
              "        if (!display || display === 'none') {{\n",
              "            console.log([gd, 'removed!']);\n",
              "            Plotly.purge(gd);\n",
              "            observer.disconnect();\n",
              "        }}\n",
              "}});\n",
              "\n",
              "// Listen for the removal of the full notebook cells\n",
              "var notebookContainer = gd.closest('#notebook-container');\n",
              "if (notebookContainer) {{\n",
              "    x.observe(notebookContainer, {childList: true});\n",
              "}}\n",
              "\n",
              "// Listen for the clearing of the current output cell\n",
              "var outputEl = gd.closest('.output');\n",
              "if (outputEl) {{\n",
              "    x.observe(outputEl, {childList: true});\n",
              "}}\n",
              "\n",
              "                        })                };                            </script>        </div>\n",
              "</body>\n",
              "</html>"
            ]
          },
          "metadata": {}
        }
      ]
    },
    {
      "cell_type": "markdown",
      "source": [
        "White, Tiger and Bull Sharks are the more dangerous species to humans.\n",
        "\n",
        "---\n",
        "*I generated two groups: -'unknown shark' and 'Unconfirmed shark involvement' (it already existed but was modified)where unknown or unclear species were added respectively. Also, I didn't include the first two rows of this final data frame. This decision can be biased, but it helped add more value to the analysis.*"
      ],
      "metadata": {
        "id": "XujEJPaEjlXB"
      }
    },
    {
      "cell_type": "markdown",
      "source": [
        "# **Are children more likely to be attacked by sharks?**\n",
        "\n",
        "---\n",
        "\n"
      ],
      "metadata": {
        "id": "kvfnd_xBRm39"
      }
    },
    {
      "cell_type": "code",
      "source": [
        "# Drop rows with missing age values\n",
        "Shark_data1 = shark_data.dropna(subset=['Age']).copy()\n",
        "#Set the errors parameter to 'coerce' to replace any non-numeric values with NaN.\n",
        "#if they could not be converted to integer.\n",
        "Shark_data1 = Shark_data1.replace(['nan', 'Teen', '40s', '\\xa0 ', ' ','NA', 'Teens', '6½', '20?', \"60's\", 'Elderly', 'mid-30s', 'Ca. 33', '74 ', '45 ', 'adult', '? & 19', '(adult)', 'X', '\"middle-age\"', '\"young\"', 'Both 11', 'young', '  ', 'A.M.', '?    &   14', '2½'], 0)\n",
        "Shark_data1['Age'] = pd.to_numeric(Shark_data1['Age'], errors='coerce').astype('Int64')\n",
        "#print(shark_data.dtypes)"
      ],
      "metadata": {
        "id": "CSv7daMT2mcf"
      },
      "execution_count": null,
      "outputs": []
    },
    {
      "cell_type": "code",
      "source": [
        "#Graphic Attacks By Age\n",
        "\n",
        "ages = Shark_data1[\"Age\"].astype(float)\n",
        "\n",
        "bins = [0, 10, 20, 30, 40, 50, 60, 70, 80, 90]\n",
        "\n",
        "plt.hist(ages, bins=bins, edgecolor = \"black\", color=\"royalblue\")\n",
        "\n",
        "median = ages.median()\n",
        "plt.axvline(median, color=\"lightcoral\", label = \"Median Age\", linewidth=4)\n",
        "\n",
        "\n",
        "plt.title(\"Ages of Shark Attack Victims\")\n",
        "plt.ylabel(\"Attacks\")\n",
        "plt.xlabel(\"Ages\")\n",
        "\n",
        "plt.legend()\n",
        "plt.grid(axis=\"y\")\n",
        "plt.tight_layout()\n",
        "plt.savefig(\"AttacksByAge.png\")"
      ],
      "metadata": {
        "colab": {
          "base_uri": "https://localhost:8080/",
          "height": 297
        },
        "id": "b3nx63k5XTIE",
        "outputId": "b492907e-cfdc-4eb2-e084-9101e6ec7394"
      },
      "execution_count": null,
      "outputs": [
        {
          "output_type": "display_data",
          "data": {
            "text/plain": [
              "<Figure size 432x288 with 1 Axes>"
            ],
            "image/png": "[encoded data removed]"
          },
          "metadata": {
            "needs_background": "light"
          }
        }
      ]
    },
    {
      "cell_type": "markdown",
      "source": [
        "The range where the greatest number of attacks occurred was from 10 to 20, and the median is in the range of 20 to 30. Therefore, it could not be affirmed that children (6-11 years old) are the most likely to be attacked.\n",
        "\n",
        "---\n",
        "*However, it is important to take into account that by cleaning the data, many of these, due to their lack of precision, had to be converted into NaN values, which can generate biases.*\n",
        "\n",
        "---\n",
        "\n"
      ],
      "metadata": {
        "id": "tjAA0lHuTty1"
      }
    },
    {
      "cell_type": "markdown",
      "source": [
        "## **Are shark attacks where sharks were provoked more or less dangerous?**\n",
        "\n",
        "---\n",
        "\n"
      ],
      "metadata": {
        "id": "R83KrM-eVx73"
      }
    },
    {
      "cell_type": "code",
      "source": [
        "# exist a correlation between \"FATAL injury\" and \"Fatal (Y/N)\"\n",
        "# check values in 'Fatal (Y/N)' column with a boolean array.\n",
        "def check_and_update(shark_data):\n",
        "    # check condition 1:\n",
        "    mask = (shark_data['Injury'] == 'FATAL') & (shark_data['Fatal (Y/N)'] == 'None')\n",
        "    count = mask.sum() # count number of times condition is true\n",
        "    \n",
        "    # update values for condition 2: \n",
        "    shark_data.loc[mask, 'Fatal (Y/N)'] = 'Yes'\n",
        "    return count\n",
        "\n",
        "count = check_and_update(shark_data)\n",
        "print(f\"Number of times condition is True: {count}\")\n",
        "#print(shark_data)\n",
        "   "
      ],
      "metadata": {
        "colab": {
          "base_uri": "https://localhost:8080/"
        },
        "id": "D3rJVx7FlO3J",
        "outputId": "4b0f6d1d-3844-4d12-ad0b-9dc2930fc16c"
      },
      "execution_count": null,
      "outputs": [
        {
          "output_type": "stream",
          "name": "stdout",
          "text": [
            "Number of times condition is True: 0\n"
          ]
        }
      ]
    },
    {
      "cell_type": "code",
      "source": [
        "# drop all rows that have a missing value for Type or Fatal (Y/N)\n",
        "Shark_data2 = shark_data.dropna(subset=['Type', 'Fatal (Y/N)']).copy()\n",
        "\n",
        "# Sum missing values per row\n",
        "Shark_data2['sum_missing'] = Shark_data2.isnull().sum(axis=1)\n",
        "\n",
        "# Use only the rows where the number of missing values < 5 (could introduce one or more biases)\n",
        "Shark_data3 = Shark_data2.loc[Shark_data2['sum_missing'] < 5]\n",
        "#Shark_data3"
      ],
      "metadata": {
        "id": "ocR2di65Bwzo"
      },
      "execution_count": null,
      "outputs": []
    },
    {
      "cell_type": "code",
      "source": [
        "# Graphic question number 3\n",
        "\n",
        "Shark_data3['Type'].value_counts()"
      ],
      "metadata": {
        "colab": {
          "base_uri": "https://localhost:8080/"
        },
        "id": "GcMaYVmboKve",
        "outputId": "97426767-3f57-40a8-ea88-7807d52e518e"
      },
      "execution_count": null,
      "outputs": [
        {
          "output_type": "execute_result",
          "data": {
            "text/plain": [
              "Unprovoked      4469\n",
              "Provoked         561\n",
              "Boat             319\n",
              "Sea Disaster     212\n",
              "Invalid           22\n",
              "Questionable       2\n",
              "Name: Type, dtype: int64"
            ]
          },
          "metadata": {},
          "execution_count": 22
        }
      ]
    },
    {
      "cell_type": "code",
      "source": [
        "shark_graph3 = Shark_data3.groupby(['Type', 'Fatal (Y/N)'],as_index=False).size()\n",
        "shark_graph3= shark_graph3.sort_values(by=['size'], ascending=False)\n",
        "shark_graph3.drop([0,1,2,3,6,7,8],inplace=True)\n",
        "shark_graph3.head()\n",
        "shark_graph3"
      ],
      "metadata": {
        "colab": {
          "base_uri": "https://localhost:8080/",
          "height": 175
        },
        "id": "XiFOkxat8F0a",
        "outputId": "979e250a-7639-4be6-9363-c423e3a4d855"
      },
      "execution_count": null,
      "outputs": [
        {
          "output_type": "execute_result",
          "data": {
            "text/plain": [
              "          Type Fatal (Y/N)  size\n",
              "9   Unprovoked           N  3316\n",
              "10  Unprovoked           Y  1153\n",
              "4     Provoked           N   543\n",
              "5     Provoked           Y    18"
            ],
            "text/html": [
              "\n",
              "  <div id=\"df-1b773312-603b-4d4c-b276-e588f2fd6d6f\">\n",
              "    <div class=\"colab-df-container\">\n",
              "      <div>\n",
              "<style scoped>\n",
              "    .dataframe tbody tr th:only-of-type {\n",
              "        vertical-align: middle;\n",
              "    }\n",
              "\n",
              "    .dataframe tbody tr th {\n",
              "        vertical-align: top;\n",
              "    }\n",
              "\n",
              "    .dataframe thead th {\n",
              "        text-align: right;\n",
              "    }\n",
              "</style>\n",
              "<table border=\"1\" class=\"dataframe\">\n",
              "  <thead>\n",
              "    <tr style=\"text-align: right;\">\n",
              "      <th></th>\n",
              "      <th>Type</th>\n",
              "      <th>Fatal (Y/N)</th>\n",
              "      <th>size</th>\n",
              "    </tr>\n",
              "  </thead>\n",
              "  <tbody>\n",
              "    <tr>\n",
              "      <th>9</th>\n",
              "      <td>Unprovoked</td>\n",
              "      <td>N</td>\n",
              "      <td>3316</td>\n",
              "    </tr>\n",
              "    <tr>\n",
              "      <th>10</th>\n",
              "      <td>Unprovoked</td>\n",
              "      <td>Y</td>\n",
              "      <td>1153</td>\n",
              "    </tr>\n",
              "    <tr>\n",
              "      <th>4</th>\n",
              "      <td>Provoked</td>\n",
              "      <td>N</td>\n",
              "      <td>543</td>\n",
              "    </tr>\n",
              "    <tr>\n",
              "      <th>5</th>\n",
              "      <td>Provoked</td>\n",
              "      <td>Y</td>\n",
              "      <td>18</td>\n",
              "    </tr>\n",
              "  </tbody>\n",
              "</table>\n",
              "</div>\n",
              "      <button class=\"colab-df-convert\" onclick=\"convertToInteractive('df-1b773312-603b-4d4c-b276-e588f2fd6d6f')\"\n",
              "              title=\"Convert this dataframe to an interactive table.\"\n",
              "              style=\"display:none;\">\n",
              "        \n",
              "  <svg xmlns=\"http://www.w3.org/2000/svg\" height=\"24px\"viewBox=\"0 0 24 24\"\n",
              "       width=\"24px\">\n",
              "    <path d=\"M0 0h24v24H0V0z\" fill=\"none\"/>\n",
              "    <path d=\"M18.56 5.44l.94 2.06.94-2.06 2.06-.94-2.06-.94-.94-2.06-.94 2.06-2.06.94zm-11 1L8.5 8.5l.94-2.06 2.06-.94-2.06-.94L8.5 2.5l-.94 2.06-2.06.94zm10 10l.94 2.06.94-2.06 2.06-.94-2.06-.94-.94-2.06-.94 2.06-2.06.94z\"/><path d=\"M17.41 7.96l-1.37-1.37c-.4-.4-.92-.59-1.43-.59-.52 0-1.04.2-1.43.59L10.3 9.45l-7.72 7.72c-.78.78-.78 2.05 0 2.83L4 21.41c.39.39.9.59 1.41.59.51 0 1.02-.2 1.41-.59l7.78-7.78 2.81-2.81c.8-.78.8-2.07 0-2.86zM5.41 20L4 18.59l7.72-7.72 1.47 1.35L5.41 20z\"/>\n",
              "  </svg>\n",
              "      </button>\n",
              "      \n",
              "  <style>\n",
              "    .colab-df-container {\n",
              "      display:flex;\n",
              "      flex-wrap:wrap;\n",
              "      gap: 12px;\n",
              "    }\n",
              "\n",
              "    .colab-df-convert {\n",
              "      background-color: #E8F0FE;\n",
              "      border: none;\n",
              "      border-radius: 50%;\n",
              "      cursor: pointer;\n",
              "      display: none;\n",
              "      fill: #1967D2;\n",
              "      height: 32px;\n",
              "      padding: 0 0 0 0;\n",
              "      width: 32px;\n",
              "    }\n",
              "\n",
              "    .colab-df-convert:hover {\n",
              "      background-color: #E2EBFA;\n",
              "      box-shadow: 0px 1px 2px rgba(60, 64, 67, 0.3), 0px 1px 3px 1px rgba(60, 64, 67, 0.15);\n",
              "      fill: #174EA6;\n",
              "    }\n",
              "\n",
              "    [theme=dark] .colab-df-convert {\n",
              "      background-color: #3B4455;\n",
              "      fill: #D2E3FC;\n",
              "    }\n",
              "\n",
              "    [theme=dark] .colab-df-convert:hover {\n",
              "      background-color: #434B5C;\n",
              "      box-shadow: 0px 1px 3px 1px rgba(0, 0, 0, 0.15);\n",
              "      filter: drop-shadow(0px 1px 2px rgba(0, 0, 0, 0.3));\n",
              "      fill: #FFFFFF;\n",
              "    }\n",
              "  </style>\n",
              "\n",
              "      <script>\n",
              "        const buttonEl =\n",
              "          document.querySelector('#df-1b773312-603b-4d4c-b276-e588f2fd6d6f button.colab-df-convert');\n",
              "        buttonEl.style.display =\n",
              "          google.colab.kernel.accessAllowed ? 'block' : 'none';\n",
              "\n",
              "        async function convertToInteractive(key) {\n",
              "          const element = document.querySelector('#df-1b773312-603b-4d4c-b276-e588f2fd6d6f');\n",
              "          const dataTable =\n",
              "            await google.colab.kernel.invokeFunction('convertToInteractive',\n",
              "                                                     [key], {});\n",
              "          if (!dataTable) return;\n",
              "\n",
              "          const docLinkHtml = 'Like what you see? Visit the ' +\n",
              "            '<a target=\"_blank\" href=https://colab.research.google.com/notebooks/data_table.ipynb>data table notebook</a>'\n",
              "            + ' to learn more about interactive tables.';\n",
              "          element.innerHTML = '';\n",
              "          dataTable['output_type'] = 'display_data';\n",
              "          await google.colab.output.renderOutput(dataTable, element);\n",
              "          const docLink = document.createElement('div');\n",
              "          docLink.innerHTML = docLinkHtml;\n",
              "          element.appendChild(docLink);\n",
              "        }\n",
              "      </script>\n",
              "    </div>\n",
              "  </div>\n",
              "  "
            ]
          },
          "metadata": {},
          "execution_count": 23
        }
      ]
    },
    {
      "cell_type": "code",
      "source": [
        "mlabels=['Unprovoked Fatal','Unprovoked Non Fatal','Provoked Non Fatal','Provoked Fatal']\n",
        "plt.pie(shark_graph3['size'],labels=mlabels,autopct='%1.1f%%')\n",
        "plt.title('Comparison of fatal/non fatal accidents among Provoked and Unprovoked')\n",
        "fig = plt.gcf()\n",
        "fig.set_size_inches(10,10)\n",
        "plt.show()"
      ],
      "metadata": {
        "colab": {
          "base_uri": "https://localhost:8080/",
          "height": 591
        },
        "id": "C3CBu1JR_Y78",
        "outputId": "8579f008-5ed5-4a64-8499-29e4ebb0b654"
      },
      "execution_count": null,
      "outputs": [
        {
          "output_type": "display_data",
          "data": {
            "text/plain": [
              "<Figure size 720x720 with 1 Axes>"
            ],
            "image/png": "[encoded data removed]"
          },
          "metadata": {}
        }
      ]
    },
    {
      "cell_type": "code",
      "source": [
        "fig = px.pie(shark_graph3, names=mlabels,values='size',hole = 0.8)\n",
        "fig.update_traces(textposition='outside', textinfo='percent+label')\n",
        "fig.update_layout(\n",
        "    annotations=[dict(text=\"Comparison of fatality\", x=0.5, y=0.5, font_size=23, showarrow=False)])\n",
        "fig.update_layout(showlegend=False)"
      ],
      "metadata": {
        "colab": {
          "base_uri": "https://localhost:8080/",
          "height": 542
        },
        "id": "jBioZ2XHAPzJ",
        "outputId": "782f9330-7b4d-47b4-acc6-75d7d106ae40"
      },
      "execution_count": null,
      "outputs": [
        {
          "output_type": "display_data",
          "data": {
            "text/html": [
              "<html>\n",
              "<head><meta charset=\"utf-8\" /></head>\n",
              "<body>\n",
              "    <div>            <script src=\"https://cdnjs.cloudflare.com/ajax/libs/mathjax/2.7.5/MathJax.js?config=TeX-AMS-MML_SVG\"></script><script type=\"text/javascript\">if (window.MathJax && window.MathJax.Hub && window.MathJax.Hub.Config) {window.MathJax.Hub.Config({SVG: {font: \"STIX-Web\"}});}</script>                <script type=\"text/javascript\">window.PlotlyConfig = {MathJaxConfig: 'local'};</script>\n",
              "        <script src=\"https://cdn.plot.ly/plotly-2.18.2.min.js\"></script>                <div id=\"3bb654e9-64c7-4825-ba03-033be9180da8\" class=\"plotly-graph-div\" style=\"height:525px; width:100%;\"></div>            <script type=\"text/javascript\">                                    window.PLOTLYENV=window.PLOTLYENV || {};                                    if (document.getElementById(\"3bb654e9-64c7-4825-ba03-033be9180da8\")) {                    Plotly.newPlot(                        \"3bb654e9-64c7-4825-ba03-033be9180da8\",                        [{\"domain\":{\"x\":[0.0,1.0],\"y\":[0.0,1.0]},\"hole\":0.8,\"hovertemplate\":\"label=%{label}<br>size=%{value}<extra></extra>\",\"labels\":[\"Unprovoked Fatal\",\"Unprovoked Non Fatal\",\"Provoked Non Fatal\",\"Provoked Fatal\"],\"legendgroup\":\"\",\"name\":\"\",\"showlegend\":true,\"values\":[3316,1153,543,18],\"type\":\"pie\",\"textinfo\":\"percent+label\",\"textposition\":\"outside\"}],                        {\"template\":{\"data\":{\"histogram2dcontour\":[{\"type\":\"histogram2dcontour\",\"colorbar\":{\"outlinewidth\":0,\"ticks\":\"\"},\"colorscale\":[[0.0,\"#0d0887\"],[0.1111111111111111,\"#46039f\"],[0.2222222222222222,\"#7201a8\"],[0.3333333333333333,\"#9c179e\"],[0.4444444444444444,\"#bd3786\"],[0.5555555555555556,\"#d8576b\"],[0.6666666666666666,\"#ed7953\"],[0.7777777777777778,\"#fb9f3a\"],[0.8888888888888888,\"#fdca26\"],[1.0,\"#f0f921\"]]}],\"choropleth\":[{\"type\":\"choropleth\",\"colorbar\":{\"outlinewidth\":0,\"ticks\":\"\"}}],\"histogram2d\":[{\"type\":\"histogram2d\",\"colorbar\":{\"outlinewidth\":0,\"ticks\":\"\"},\"colorscale\":[[0.0,\"#0d0887\"],[0.1111111111111111,\"#46039f\"],[0.2222222222222222,\"#7201a8\"],[0.3333333333333333,\"#9c179e\"],[0.4444444444444444,\"#bd3786\"],[0.5555555555555556,\"#d8576b\"],[0.6666666666666666,\"#ed7953\"],[0.7777777777777778,\"#fb9f3a\"],[0.8888888888888888,\"#fdca26\"],[1.0,\"#f0f921\"]]}],\"heatmap\":[{\"type\":\"heatmap\",\"colorbar\":{\"outlinewidth\":0,\"ticks\":\"\"},\"colorscale\":[[0.0,\"#0d0887\"],[0.1111111111111111,\"#46039f\"],[0.2222222222222222,\"#7201a8\"],[0.3333333333333333,\"#9c179e\"],[0.4444444444444444,\"#bd3786\"],[0.5555555555555556,\"#d8576b\"],[0.6666666666666666,\"#ed7953\"],[0.7777777777777778,\"#fb9f3a\"],[0.8888888888888888,\"#fdca26\"],[1.0,\"#f0f921\"]]}],\"heatmapgl\":[{\"type\":\"heatmapgl\",\"colorbar\":{\"outlinewidth\":0,\"ticks\":\"\"},\"colorscale\":[[0.0,\"#0d0887\"],[0.1111111111111111,\"#46039f\"],[0.2222222222222222,\"#7201a8\"],[0.3333333333333333,\"#9c179e\"],[0.4444444444444444,\"#bd3786\"],[0.5555555555555556,\"#d8576b\"],[0.6666666666666666,\"#ed7953\"],[0.7777777777777778,\"#fb9f3a\"],[0.8888888888888888,\"#fdca26\"],[1.0,\"#f0f921\"]]}],\"contourcarpet\":[{\"type\":\"contourcarpet\",\"colorbar\":{\"outlinewidth\":0,\"ticks\":\"\"}}],\"contour\":[{\"type\":\"contour\",\"colorbar\":{\"outlinewidth\":0,\"ticks\":\"\"},\"colorscale\":[[0.0,\"#0d0887\"],[0.1111111111111111,\"#46039f\"],[0.2222222222222222,\"#7201a8\"],[0.3333333333333333,\"#9c179e\"],[0.4444444444444444,\"#bd3786\"],[0.5555555555555556,\"#d8576b\"],[0.6666666666666666,\"#ed7953\"],[0.7777777777777778,\"#fb9f3a\"],[0.8888888888888888,\"#fdca26\"],[1.0,\"#f0f921\"]]}],\"surface\":[{\"type\":\"surface\",\"colorbar\":{\"outlinewidth\":0,\"ticks\":\"\"},\"colorscale\":[[0.0,\"#0d0887\"],[0.1111111111111111,\"#46039f\"],[0.2222222222222222,\"#7201a8\"],[0.3333333333333333,\"#9c179e\"],[0.4444444444444444,\"#bd3786\"],[0.5555555555555556,\"#d8576b\"],[0.6666666666666666,\"#ed7953\"],[0.7777777777777778,\"#fb9f3a\"],[0.8888888888888888,\"#fdca26\"],[1.0,\"#f0f921\"]]}],\"mesh3d\":[{\"type\":\"mesh3d\",\"colorbar\":{\"outlinewidth\":0,\"ticks\":\"\"}}],\"scatter\":[{\"fillpattern\":{\"fillmode\":\"overlay\",\"size\":10,\"solidity\":0.2},\"type\":\"scatter\"}],\"parcoords\":[{\"type\":\"parcoords\",\"line\":{\"colorbar\":{\"outlinewidth\":0,\"ticks\":\"\"}}}],\"scatterpolargl\":[{\"type\":\"scatterpolargl\",\"marker\":{\"colorbar\":{\"outlinewidth\":0,\"ticks\":\"\"}}}],\"bar\":[{\"error_x\":{\"color\":\"#2a3f5f\"},\"error_y\":{\"color\":\"#2a3f5f\"},\"marker\":{\"line\":{\"color\":\"#E5ECF6\",\"width\":0.5},\"pattern\":{\"fillmode\":\"overlay\",\"size\":10,\"solidity\":0.2}},\"type\":\"bar\"}],\"scattergeo\":[{\"type\":\"scattergeo\",\"marker\":{\"colorbar\":{\"outlinewidth\":0,\"ticks\":\"\"}}}],\"scatterpolar\":[{\"type\":\"scatterpolar\",\"marker\":{\"colorbar\":{\"outlinewidth\":0,\"ticks\":\"\"}}}],\"histogram\":[{\"marker\":{\"pattern\":{\"fillmode\":\"overlay\",\"size\":10,\"solidity\":0.2}},\"type\":\"histogram\"}],\"scattergl\":[{\"type\":\"scattergl\",\"marker\":{\"colorbar\":{\"outlinewidth\":0,\"ticks\":\"\"}}}],\"scatter3d\":[{\"type\":\"scatter3d\",\"line\":{\"colorbar\":{\"outlinewidth\":0,\"ticks\":\"\"}},\"marker\":{\"colorbar\":{\"outlinewidth\":0,\"ticks\":\"\"}}}],\"scattermapbox\":[{\"type\":\"scattermapbox\",\"marker\":{\"colorbar\":{\"outlinewidth\":0,\"ticks\":\"\"}}}],\"scatterternary\":[{\"type\":\"scatterternary\",\"marker\":{\"colorbar\":{\"outlinewidth\":0,\"ticks\":\"\"}}}],\"scattercarpet\":[{\"type\":\"scattercarpet\",\"marker\":{\"colorbar\":{\"outlinewidth\":0,\"ticks\":\"\"}}}],\"carpet\":[{\"aaxis\":{\"endlinecolor\":\"#2a3f5f\",\"gridcolor\":\"white\",\"linecolor\":\"white\",\"minorgridcolor\":\"white\",\"startlinecolor\":\"#2a3f5f\"},\"baxis\":{\"endlinecolor\":\"#2a3f5f\",\"gridcolor\":\"white\",\"linecolor\":\"white\",\"minorgridcolor\":\"white\",\"startlinecolor\":\"#2a3f5f\"},\"type\":\"carpet\"}],\"table\":[{\"cells\":{\"fill\":{\"color\":\"#EBF0F8\"},\"line\":{\"color\":\"white\"}},\"header\":{\"fill\":{\"color\":\"#C8D4E3\"},\"line\":{\"color\":\"white\"}},\"type\":\"table\"}],\"barpolar\":[{\"marker\":{\"line\":{\"color\":\"#E5ECF6\",\"width\":0.5},\"pattern\":{\"fillmode\":\"overlay\",\"size\":10,\"solidity\":0.2}},\"type\":\"barpolar\"}],\"pie\":[{\"automargin\":true,\"type\":\"pie\"}]},\"layout\":{\"autotypenumbers\":\"strict\",\"colorway\":[\"#636efa\",\"#EF553B\",\"#00cc96\",\"#ab63fa\",\"#FFA15A\",\"#19d3f3\",\"#FF6692\",\"#B6E880\",\"#FF97FF\",\"#FECB52\"],\"font\":{\"color\":\"#2a3f5f\"},\"hovermode\":\"closest\",\"hoverlabel\":{\"align\":\"left\"},\"paper_bgcolor\":\"white\",\"plot_bgcolor\":\"#E5ECF6\",\"polar\":{\"bgcolor\":\"#E5ECF6\",\"angularaxis\":{\"gridcolor\":\"white\",\"linecolor\":\"white\",\"ticks\":\"\"},\"radialaxis\":{\"gridcolor\":\"white\",\"linecolor\":\"white\",\"ticks\":\"\"}},\"ternary\":{\"bgcolor\":\"#E5ECF6\",\"aaxis\":{\"gridcolor\":\"white\",\"linecolor\":\"white\",\"ticks\":\"\"},\"baxis\":{\"gridcolor\":\"white\",\"linecolor\":\"white\",\"ticks\":\"\"},\"caxis\":{\"gridcolor\":\"white\",\"linecolor\":\"white\",\"ticks\":\"\"}},\"coloraxis\":{\"colorbar\":{\"outlinewidth\":0,\"ticks\":\"\"}},\"colorscale\":{\"sequential\":[[0.0,\"#0d0887\"],[0.1111111111111111,\"#46039f\"],[0.2222222222222222,\"#7201a8\"],[0.3333333333333333,\"#9c179e\"],[0.4444444444444444,\"#bd3786\"],[0.5555555555555556,\"#d8576b\"],[0.6666666666666666,\"#ed7953\"],[0.7777777777777778,\"#fb9f3a\"],[0.8888888888888888,\"#fdca26\"],[1.0,\"#f0f921\"]],\"sequentialminus\":[[0.0,\"#0d0887\"],[0.1111111111111111,\"#46039f\"],[0.2222222222222222,\"#7201a8\"],[0.3333333333333333,\"#9c179e\"],[0.4444444444444444,\"#bd3786\"],[0.5555555555555556,\"#d8576b\"],[0.6666666666666666,\"#ed7953\"],[0.7777777777777778,\"#fb9f3a\"],[0.8888888888888888,\"#fdca26\"],[1.0,\"#f0f921\"]],\"diverging\":[[0,\"#8e0152\"],[0.1,\"#c51b7d\"],[0.2,\"#de77ae\"],[0.3,\"#f1b6da\"],[0.4,\"#fde0ef\"],[0.5,\"#f7f7f7\"],[0.6,\"#e6f5d0\"],[0.7,\"#b8e186\"],[0.8,\"#7fbc41\"],[0.9,\"#4d9221\"],[1,\"#276419\"]]},\"xaxis\":{\"gridcolor\":\"white\",\"linecolor\":\"white\",\"ticks\":\"\",\"title\":{\"standoff\":15},\"zerolinecolor\":\"white\",\"automargin\":true,\"zerolinewidth\":2},\"yaxis\":{\"gridcolor\":\"white\",\"linecolor\":\"white\",\"ticks\":\"\",\"title\":{\"standoff\":15},\"zerolinecolor\":\"white\",\"automargin\":true,\"zerolinewidth\":2},\"scene\":{\"xaxis\":{\"backgroundcolor\":\"#E5ECF6\",\"gridcolor\":\"white\",\"linecolor\":\"white\",\"showbackground\":true,\"ticks\":\"\",\"zerolinecolor\":\"white\",\"gridwidth\":2},\"yaxis\":{\"backgroundcolor\":\"#E5ECF6\",\"gridcolor\":\"white\",\"linecolor\":\"white\",\"showbackground\":true,\"ticks\":\"\",\"zerolinecolor\":\"white\",\"gridwidth\":2},\"zaxis\":{\"backgroundcolor\":\"#E5ECF6\",\"gridcolor\":\"white\",\"linecolor\":\"white\",\"showbackground\":true,\"ticks\":\"\",\"zerolinecolor\":\"white\",\"gridwidth\":2}},\"shapedefaults\":{\"line\":{\"color\":\"#2a3f5f\"}},\"annotationdefaults\":{\"arrowcolor\":\"#2a3f5f\",\"arrowhead\":0,\"arrowwidth\":1},\"geo\":{\"bgcolor\":\"white\",\"landcolor\":\"#E5ECF6\",\"subunitcolor\":\"white\",\"showland\":true,\"showlakes\":true,\"lakecolor\":\"white\"},\"title\":{\"x\":0.05},\"mapbox\":{\"style\":\"light\"}}},\"legend\":{\"tracegroupgap\":0},\"margin\":{\"t\":60},\"annotations\":[{\"showarrow\":false,\"text\":\"Comparison of fatality\",\"x\":0.5,\"y\":0.5,\"font\":{\"size\":23}}],\"showlegend\":false},                        {\"responsive\": true}                    ).then(function(){\n",
              "                            \n",
              "var gd = document.getElementById('3bb654e9-64c7-4825-ba03-033be9180da8');\n",
              "var x = new MutationObserver(function (mutations, observer) {{\n",
              "        var display = window.getComputedStyle(gd).display;\n",
              "        if (!display || display === 'none') {{\n",
              "            console.log([gd, 'removed!']);\n",
              "            Plotly.purge(gd);\n",
              "            observer.disconnect();\n",
              "        }}\n",
              "}});\n",
              "\n",
              "// Listen for the removal of the full notebook cells\n",
              "var notebookContainer = gd.closest('#notebook-container');\n",
              "if (notebookContainer) {{\n",
              "    x.observe(notebookContainer, {childList: true});\n",
              "}}\n",
              "\n",
              "// Listen for the clearing of the current output cell\n",
              "var outputEl = gd.closest('.output');\n",
              "if (outputEl) {{\n",
              "    x.observe(outputEl, {childList: true});\n",
              "}}\n",
              "\n",
              "                        })                };                            </script>        </div>\n",
              "</body>\n",
              "</html>"
            ]
          },
          "metadata": {}
        }
      ]
    },
    {
      "cell_type": "markdown",
      "source": [
        "Provoked vs Unprovoked Attacks\n",
        "Let's dig a little deeper on provoked and unprovoked attacks.\n",
        "\n",
        "Provoked Attacks\n",
        "\n",
        "*Provoked attacks occur when a human touches, hooks, nets, or otherwise aggravates the animal. Incidents that occur outside of a shark's natural habitat, such as aquariums and research holding-pens, are considered provoked, as are all incidents involving captured sharks. Sometimes humans inadvertently provoke an attack, such as when a surfer accidentally hits a shark with a surf board. So techinically surfing and fishing etc. should contribute to a larger percentage of shark attacks.*\n",
        "\n",
        "Unprovoked Attacks\n",
        "\n",
        "*Unprovoked attacks are initiated by the shark. They occur in a shark's natural habitat on a live human and without human provocation. So if you infiltrate they attack.*\n",
        "\n",
        "---\n",
        "\n",
        "65,9% of the fatal attacks are unprovoked attacks and just 0,4% are provoked.\n",
        "\n",
        "---\n",
        "*In this analisys I use only the rows where the number of missing values < 5 (it could introduce one or more biases, but at the same time it is more reliable)*\n",
        "\n"
      ],
      "metadata": {
        "id": "7-AVvM6SZQji"
      }
    },
    {
      "cell_type": "markdown",
      "source": [
        "# **Are certain activities more likely to result in a shark attack?**\n",
        "\n",
        "---\n",
        "\n"
      ],
      "metadata": {
        "id": "--6wE1LyYNFi"
      }
    },
    {
      "cell_type": "code",
      "source": [
        "#lets check if certain activities lead to provoked more attacks.\n",
        "\n",
        "prov_activity = shark_data.groupby('Activity')['Activity'].count().sort_values(ascending=False)[:10]\n",
        "\n",
        "fig = px.bar(prov_activity, x=prov_activity.values, y=prov_activity.index, orientation='h', labels={'index':'','x':'Attack Count'},\n",
        "            title = 'Attacks by Activity')\n",
        "fig.update_layout(height=500, width=800)\n",
        "fig.show()"
      ],
      "metadata": {
        "colab": {
          "base_uri": "https://localhost:8080/",
          "height": 517
        },
        "id": "qEPi-texL2lt",
        "outputId": "2d5c616b-3177-4d0d-a5f6-9cd5f20f05ce"
      },
      "execution_count": null,
      "outputs": [
        {
          "output_type": "display_data",
          "data": {
            "text/html": [
              "<html>\n",
              "<head><meta charset=\"utf-8\" /></head>\n",
              "<body>\n",
              "    <div>            <script src=\"https://cdnjs.cloudflare.com/ajax/libs/mathjax/2.7.5/MathJax.js?config=TeX-AMS-MML_SVG\"></script><script type=\"text/javascript\">if (window.MathJax && window.MathJax.Hub && window.MathJax.Hub.Config) {window.MathJax.Hub.Config({SVG: {font: \"STIX-Web\"}});}</script>                <script type=\"text/javascript\">window.PlotlyConfig = {MathJaxConfig: 'local'};</script>\n",
              "        <script src=\"https://cdn.plot.ly/plotly-2.18.2.min.js\"></script>                <div id=\"1f8d352a-3527-47f2-8254-b14eadad879f\" class=\"plotly-graph-div\" style=\"height:500px; width:800px;\"></div>            <script type=\"text/javascript\">                                    window.PLOTLYENV=window.PLOTLYENV || {};                                    if (document.getElementById(\"1f8d352a-3527-47f2-8254-b14eadad879f\")) {                    Plotly.newPlot(                        \"1f8d352a-3527-47f2-8254-b14eadad879f\",                        [{\"alignmentgroup\":\"True\",\"hovertemplate\":\"Attack Count=%{x}<br>=%{y}<extra></extra>\",\"legendgroup\":\"\",\"marker\":{\"color\":\"#636efa\",\"pattern\":{\"shape\":\"\"}},\"name\":\"\",\"offsetgroup\":\"\",\"orientation\":\"h\",\"showlegend\":false,\"textposition\":\"auto\",\"x\":[971,869,431,333,162,149,127,99,89,76],\"xaxis\":\"x\",\"y\":[\"Surfing\",\"Swimming\",\"Fishing\",\"Spearfishing\",\"Bathing\",\"Wading\",\"Diving\",\"Standing\",\"Snorkeling\",\"Scuba diving\"],\"yaxis\":\"y\",\"type\":\"bar\"}],                        {\"template\":{\"data\":{\"histogram2dcontour\":[{\"type\":\"histogram2dcontour\",\"colorbar\":{\"outlinewidth\":0,\"ticks\":\"\"},\"colorscale\":[[0.0,\"#0d0887\"],[0.1111111111111111,\"#46039f\"],[0.2222222222222222,\"#7201a8\"],[0.3333333333333333,\"#9c179e\"],[0.4444444444444444,\"#bd3786\"],[0.5555555555555556,\"#d8576b\"],[0.6666666666666666,\"#ed7953\"],[0.7777777777777778,\"#fb9f3a\"],[0.8888888888888888,\"#fdca26\"],[1.0,\"#f0f921\"]]}],\"choropleth\":[{\"type\":\"choropleth\",\"colorbar\":{\"outlinewidth\":0,\"ticks\":\"\"}}],\"histogram2d\":[{\"type\":\"histogram2d\",\"colorbar\":{\"outlinewidth\":0,\"ticks\":\"\"},\"colorscale\":[[0.0,\"#0d0887\"],[0.1111111111111111,\"#46039f\"],[0.2222222222222222,\"#7201a8\"],[0.3333333333333333,\"#9c179e\"],[0.4444444444444444,\"#bd3786\"],[0.5555555555555556,\"#d8576b\"],[0.6666666666666666,\"#ed7953\"],[0.7777777777777778,\"#fb9f3a\"],[0.8888888888888888,\"#fdca26\"],[1.0,\"#f0f921\"]]}],\"heatmap\":[{\"type\":\"heatmap\",\"colorbar\":{\"outlinewidth\":0,\"ticks\":\"\"},\"colorscale\":[[0.0,\"#0d0887\"],[0.1111111111111111,\"#46039f\"],[0.2222222222222222,\"#7201a8\"],[0.3333333333333333,\"#9c179e\"],[0.4444444444444444,\"#bd3786\"],[0.5555555555555556,\"#d8576b\"],[0.6666666666666666,\"#ed7953\"],[0.7777777777777778,\"#fb9f3a\"],[0.8888888888888888,\"#fdca26\"],[1.0,\"#f0f921\"]]}],\"heatmapgl\":[{\"type\":\"heatmapgl\",\"colorbar\":{\"outlinewidth\":0,\"ticks\":\"\"},\"colorscale\":[[0.0,\"#0d0887\"],[0.1111111111111111,\"#46039f\"],[0.2222222222222222,\"#7201a8\"],[0.3333333333333333,\"#9c179e\"],[0.4444444444444444,\"#bd3786\"],[0.5555555555555556,\"#d8576b\"],[0.6666666666666666,\"#ed7953\"],[0.7777777777777778,\"#fb9f3a\"],[0.8888888888888888,\"#fdca26\"],[1.0,\"#f0f921\"]]}],\"contourcarpet\":[{\"type\":\"contourcarpet\",\"colorbar\":{\"outlinewidth\":0,\"ticks\":\"\"}}],\"contour\":[{\"type\":\"contour\",\"colorbar\":{\"outlinewidth\":0,\"ticks\":\"\"},\"colorscale\":[[0.0,\"#0d0887\"],[0.1111111111111111,\"#46039f\"],[0.2222222222222222,\"#7201a8\"],[0.3333333333333333,\"#9c179e\"],[0.4444444444444444,\"#bd3786\"],[0.5555555555555556,\"#d8576b\"],[0.6666666666666666,\"#ed7953\"],[0.7777777777777778,\"#fb9f3a\"],[0.8888888888888888,\"#fdca26\"],[1.0,\"#f0f921\"]]}],\"surface\":[{\"type\":\"surface\",\"colorbar\":{\"outlinewidth\":0,\"ticks\":\"\"},\"colorscale\":[[0.0,\"#0d0887\"],[0.1111111111111111,\"#46039f\"],[0.2222222222222222,\"#7201a8\"],[0.3333333333333333,\"#9c179e\"],[0.4444444444444444,\"#bd3786\"],[0.5555555555555556,\"#d8576b\"],[0.6666666666666666,\"#ed7953\"],[0.7777777777777778,\"#fb9f3a\"],[0.8888888888888888,\"#fdca26\"],[1.0,\"#f0f921\"]]}],\"mesh3d\":[{\"type\":\"mesh3d\",\"colorbar\":{\"outlinewidth\":0,\"ticks\":\"\"}}],\"scatter\":[{\"fillpattern\":{\"fillmode\":\"overlay\",\"size\":10,\"solidity\":0.2},\"type\":\"scatter\"}],\"parcoords\":[{\"type\":\"parcoords\",\"line\":{\"colorbar\":{\"outlinewidth\":0,\"ticks\":\"\"}}}],\"scatterpolargl\":[{\"type\":\"scatterpolargl\",\"marker\":{\"colorbar\":{\"outlinewidth\":0,\"ticks\":\"\"}}}],\"bar\":[{\"error_x\":{\"color\":\"#2a3f5f\"},\"error_y\":{\"color\":\"#2a3f5f\"},\"marker\":{\"line\":{\"color\":\"#E5ECF6\",\"width\":0.5},\"pattern\":{\"fillmode\":\"overlay\",\"size\":10,\"solidity\":0.2}},\"type\":\"bar\"}],\"scattergeo\":[{\"type\":\"scattergeo\",\"marker\":{\"colorbar\":{\"outlinewidth\":0,\"ticks\":\"\"}}}],\"scatterpolar\":[{\"type\":\"scatterpolar\",\"marker\":{\"colorbar\":{\"outlinewidth\":0,\"ticks\":\"\"}}}],\"histogram\":[{\"marker\":{\"pattern\":{\"fillmode\":\"overlay\",\"size\":10,\"solidity\":0.2}},\"type\":\"histogram\"}],\"scattergl\":[{\"type\":\"scattergl\",\"marker\":{\"colorbar\":{\"outlinewidth\":0,\"ticks\":\"\"}}}],\"scatter3d\":[{\"type\":\"scatter3d\",\"line\":{\"colorbar\":{\"outlinewidth\":0,\"ticks\":\"\"}},\"marker\":{\"colorbar\":{\"outlinewidth\":0,\"ticks\":\"\"}}}],\"scattermapbox\":[{\"type\":\"scattermapbox\",\"marker\":{\"colorbar\":{\"outlinewidth\":0,\"ticks\":\"\"}}}],\"scatterternary\":[{\"type\":\"scatterternary\",\"marker\":{\"colorbar\":{\"outlinewidth\":0,\"ticks\":\"\"}}}],\"scattercarpet\":[{\"type\":\"scattercarpet\",\"marker\":{\"colorbar\":{\"outlinewidth\":0,\"ticks\":\"\"}}}],\"carpet\":[{\"aaxis\":{\"endlinecolor\":\"#2a3f5f\",\"gridcolor\":\"white\",\"linecolor\":\"white\",\"minorgridcolor\":\"white\",\"startlinecolor\":\"#2a3f5f\"},\"baxis\":{\"endlinecolor\":\"#2a3f5f\",\"gridcolor\":\"white\",\"linecolor\":\"white\",\"minorgridcolor\":\"white\",\"startlinecolor\":\"#2a3f5f\"},\"type\":\"carpet\"}],\"table\":[{\"cells\":{\"fill\":{\"color\":\"#EBF0F8\"},\"line\":{\"color\":\"white\"}},\"header\":{\"fill\":{\"color\":\"#C8D4E3\"},\"line\":{\"color\":\"white\"}},\"type\":\"table\"}],\"barpolar\":[{\"marker\":{\"line\":{\"color\":\"#E5ECF6\",\"width\":0.5},\"pattern\":{\"fillmode\":\"overlay\",\"size\":10,\"solidity\":0.2}},\"type\":\"barpolar\"}],\"pie\":[{\"automargin\":true,\"type\":\"pie\"}]},\"layout\":{\"autotypenumbers\":\"strict\",\"colorway\":[\"#636efa\",\"#EF553B\",\"#00cc96\",\"#ab63fa\",\"#FFA15A\",\"#19d3f3\",\"#FF6692\",\"#B6E880\",\"#FF97FF\",\"#FECB52\"],\"font\":{\"color\":\"#2a3f5f\"},\"hovermode\":\"closest\",\"hoverlabel\":{\"align\":\"left\"},\"paper_bgcolor\":\"white\",\"plot_bgcolor\":\"#E5ECF6\",\"polar\":{\"bgcolor\":\"#E5ECF6\",\"angularaxis\":{\"gridcolor\":\"white\",\"linecolor\":\"white\",\"ticks\":\"\"},\"radialaxis\":{\"gridcolor\":\"white\",\"linecolor\":\"white\",\"ticks\":\"\"}},\"ternary\":{\"bgcolor\":\"#E5ECF6\",\"aaxis\":{\"gridcolor\":\"white\",\"linecolor\":\"white\",\"ticks\":\"\"},\"baxis\":{\"gridcolor\":\"white\",\"linecolor\":\"white\",\"ticks\":\"\"},\"caxis\":{\"gridcolor\":\"white\",\"linecolor\":\"white\",\"ticks\":\"\"}},\"coloraxis\":{\"colorbar\":{\"outlinewidth\":0,\"ticks\":\"\"}},\"colorscale\":{\"sequential\":[[0.0,\"#0d0887\"],[0.1111111111111111,\"#46039f\"],[0.2222222222222222,\"#7201a8\"],[0.3333333333333333,\"#9c179e\"],[0.4444444444444444,\"#bd3786\"],[0.5555555555555556,\"#d8576b\"],[0.6666666666666666,\"#ed7953\"],[0.7777777777777778,\"#fb9f3a\"],[0.8888888888888888,\"#fdca26\"],[1.0,\"#f0f921\"]],\"sequentialminus\":[[0.0,\"#0d0887\"],[0.1111111111111111,\"#46039f\"],[0.2222222222222222,\"#7201a8\"],[0.3333333333333333,\"#9c179e\"],[0.4444444444444444,\"#bd3786\"],[0.5555555555555556,\"#d8576b\"],[0.6666666666666666,\"#ed7953\"],[0.7777777777777778,\"#fb9f3a\"],[0.8888888888888888,\"#fdca26\"],[1.0,\"#f0f921\"]],\"diverging\":[[0,\"#8e0152\"],[0.1,\"#c51b7d\"],[0.2,\"#de77ae\"],[0.3,\"#f1b6da\"],[0.4,\"#fde0ef\"],[0.5,\"#f7f7f7\"],[0.6,\"#e6f5d0\"],[0.7,\"#b8e186\"],[0.8,\"#7fbc41\"],[0.9,\"#4d9221\"],[1,\"#276419\"]]},\"xaxis\":{\"gridcolor\":\"white\",\"linecolor\":\"white\",\"ticks\":\"\",\"title\":{\"standoff\":15},\"zerolinecolor\":\"white\",\"automargin\":true,\"zerolinewidth\":2},\"yaxis\":{\"gridcolor\":\"white\",\"linecolor\":\"white\",\"ticks\":\"\",\"title\":{\"standoff\":15},\"zerolinecolor\":\"white\",\"automargin\":true,\"zerolinewidth\":2},\"scene\":{\"xaxis\":{\"backgroundcolor\":\"#E5ECF6\",\"gridcolor\":\"white\",\"linecolor\":\"white\",\"showbackground\":true,\"ticks\":\"\",\"zerolinecolor\":\"white\",\"gridwidth\":2},\"yaxis\":{\"backgroundcolor\":\"#E5ECF6\",\"gridcolor\":\"white\",\"linecolor\":\"white\",\"showbackground\":true,\"ticks\":\"\",\"zerolinecolor\":\"white\",\"gridwidth\":2},\"zaxis\":{\"backgroundcolor\":\"#E5ECF6\",\"gridcolor\":\"white\",\"linecolor\":\"white\",\"showbackground\":true,\"ticks\":\"\",\"zerolinecolor\":\"white\",\"gridwidth\":2}},\"shapedefaults\":{\"line\":{\"color\":\"#2a3f5f\"}},\"annotationdefaults\":{\"arrowcolor\":\"#2a3f5f\",\"arrowhead\":0,\"arrowwidth\":1},\"geo\":{\"bgcolor\":\"white\",\"landcolor\":\"#E5ECF6\",\"subunitcolor\":\"white\",\"showland\":true,\"showlakes\":true,\"lakecolor\":\"white\"},\"title\":{\"x\":0.05},\"mapbox\":{\"style\":\"light\"}}},\"xaxis\":{\"anchor\":\"y\",\"domain\":[0.0,1.0],\"title\":{\"text\":\"Attack Count\"}},\"yaxis\":{\"anchor\":\"x\",\"domain\":[0.0,1.0],\"title\":{\"text\":\"\"}},\"legend\":{\"tracegroupgap\":0},\"title\":{\"text\":\"Attacks by Activity\"},\"barmode\":\"relative\",\"height\":500,\"width\":800},                        {\"responsive\": true}                    ).then(function(){\n",
              "                            \n",
              "var gd = document.getElementById('1f8d352a-3527-47f2-8254-b14eadad879f');\n",
              "var x = new MutationObserver(function (mutations, observer) {{\n",
              "        var display = window.getComputedStyle(gd).display;\n",
              "        if (!display || display === 'none') {{\n",
              "            console.log([gd, 'removed!']);\n",
              "            Plotly.purge(gd);\n",
              "            observer.disconnect();\n",
              "        }}\n",
              "}});\n",
              "\n",
              "// Listen for the removal of the full notebook cells\n",
              "var notebookContainer = gd.closest('#notebook-container');\n",
              "if (notebookContainer) {{\n",
              "    x.observe(notebookContainer, {childList: true});\n",
              "}}\n",
              "\n",
              "// Listen for the clearing of the current output cell\n",
              "var outputEl = gd.closest('.output');\n",
              "if (outputEl) {{\n",
              "    x.observe(outputEl, {childList: true});\n",
              "}}\n",
              "\n",
              "                        })                };                            </script>        </div>\n",
              "</body>\n",
              "</html>"
            ]
          },
          "metadata": {}
        }
      ]
    },
    {
      "cell_type": "markdown",
      "source": [
        "Surfing, swimming and fishing are the activities more likely to Shark Attacks.\n",
        "\n",
        "---\n",
        "\n",
        "*For this analisys any assumption was done!*"
      ],
      "metadata": {
        "id": "-9D3FMZOc6Bt"
      }
    },
    {
      "cell_type": "code",
      "source": [],
      "metadata": {
        "id": "Hye_Q5X4ArdK"
      },
      "execution_count": null,
      "outputs": []
    },
    {
      "cell_type": "code",
      "source": [],
      "metadata": {
        "id": "Cdw1AKLYi63d"
      },
      "execution_count": null,
      "outputs": []
    }
  ]
}